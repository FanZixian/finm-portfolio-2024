{
 "cells": [
  {
   "cell_type": "markdown",
   "metadata": {},
   "source": [
    "## 1"
   ]
  },
  {
   "cell_type": "markdown",
   "metadata": {},
   "source": [
    "### (a)\n",
    "\n",
    "Long-only and Open-end, it is the first retail fund to do so\n",
    "\n",
    "### (b)\n",
    "\n",
    "1. Long only\n",
    "2. Monthly rebalance that brings great transaction cost\n",
    "3. Not used the whole markets to be the portfolio\n",
    "\n",
    "### (c)\n",
    "There might be short-term reversal, and the rebalancing transaction cost is also very high in this situation"
   ]
  },
  {
   "cell_type": "markdown",
   "metadata": {},
   "source": [
    "## 2"
   ]
  },
  {
   "cell_type": "code",
   "execution_count": 2,
   "metadata": {},
   "outputs": [],
   "source": [
    "import sys\n",
    "from pathlib import Path\n",
    "sys.path.append(str(Path().resolve().parent))\n",
    "\n",
    "import cmds.portfolio_management_helper as pmh\n",
    "import numpy as np\n",
    "import pandas as pd\n",
    "import matplotlib.pyplot as plt\n",
    "from scipy.stats import norm\n",
    "\n",
    "import warnings\n",
    "warnings.filterwarnings('ignore')"
   ]
  },
  {
   "cell_type": "code",
   "execution_count": 3,
   "metadata": {},
   "outputs": [],
   "source": [
    "raw_data = pd.read_excel('../data/momentum_data.xlsx',sheet_name = None)\n",
    "sheets = list(raw_data.keys())\n",
    "\n",
    "ff_factors = raw_data[sheets[1]].set_index('Date')\n",
    "momentum = raw_data[sheets[2]].set_index('Date')\n",
    "mom_deciles = raw_data[sheets[3]].set_index('Date')\n",
    "tercile_port = raw_data[sheets[4]].set_index('Date')\n",
    "rf = raw_data[sheets[5]].set_index('Date')\n",
    "\n",
    "ff_factors['UMD'] = momentum['UMD']"
   ]
  },
  {
   "cell_type": "markdown",
   "metadata": {},
   "source": [
    "### 2.1"
   ]
  },
  {
   "cell_type": "markdown",
   "metadata": {},
   "source": [
    "#### (a)"
   ]
  },
  {
   "cell_type": "code",
   "execution_count": 4,
   "metadata": {},
   "outputs": [
    {
     "data": {
      "text/plain": [
       "'1927-2024:'"
      ]
     },
     "metadata": {},
     "output_type": "display_data"
    },
    {
     "data": {
      "text/html": [
       "<div>\n",
       "<style scoped>\n",
       "    .dataframe tbody tr th:only-of-type {\n",
       "        vertical-align: middle;\n",
       "    }\n",
       "\n",
       "    .dataframe tbody tr th {\n",
       "        vertical-align: top;\n",
       "    }\n",
       "\n",
       "    .dataframe thead th {\n",
       "        text-align: right;\n",
       "    }\n",
       "</style>\n",
       "<table border=\"1\" class=\"dataframe\">\n",
       "  <thead>\n",
       "    <tr style=\"text-align: right;\">\n",
       "      <th></th>\n",
       "      <th>Annualized Mean</th>\n",
       "      <th>Annualized Vol</th>\n",
       "      <th>Annualized Sharpe</th>\n",
       "      <th>Skewness</th>\n",
       "      <th>MKT Correlation</th>\n",
       "      <th>HML Correlation</th>\n",
       "    </tr>\n",
       "  </thead>\n",
       "  <tbody>\n",
       "    <tr>\n",
       "      <th>UMD</th>\n",
       "      <td>0.0753</td>\n",
       "      <td>0.1625</td>\n",
       "      <td>0.4635</td>\n",
       "      <td>-2.9905</td>\n",
       "      <td>-0.3443</td>\n",
       "      <td>-0.4064</td>\n",
       "    </tr>\n",
       "  </tbody>\n",
       "</table>\n",
       "</div>"
      ],
      "text/plain": [
       "     Annualized Mean  Annualized Vol  Annualized Sharpe  Skewness  \\\n",
       "UMD           0.0753          0.1625             0.4635   -2.9905   \n",
       "\n",
       "     MKT Correlation  HML Correlation  \n",
       "UMD          -0.3443          -0.4064  "
      ]
     },
     "metadata": {},
     "output_type": "display_data"
    },
    {
     "data": {
      "text/plain": [
       "'1927-1993:'"
      ]
     },
     "metadata": {},
     "output_type": "display_data"
    },
    {
     "data": {
      "text/html": [
       "<div>\n",
       "<style scoped>\n",
       "    .dataframe tbody tr th:only-of-type {\n",
       "        vertical-align: middle;\n",
       "    }\n",
       "\n",
       "    .dataframe tbody tr th {\n",
       "        vertical-align: top;\n",
       "    }\n",
       "\n",
       "    .dataframe thead th {\n",
       "        text-align: right;\n",
       "    }\n",
       "</style>\n",
       "<table border=\"1\" class=\"dataframe\">\n",
       "  <thead>\n",
       "    <tr style=\"text-align: right;\">\n",
       "      <th></th>\n",
       "      <th>Annualized Mean</th>\n",
       "      <th>Annualized Vol</th>\n",
       "      <th>Annualized Sharpe</th>\n",
       "      <th>Skewness</th>\n",
       "      <th>MKT Correlation</th>\n",
       "      <th>HML Correlation</th>\n",
       "    </tr>\n",
       "  </thead>\n",
       "  <tbody>\n",
       "    <tr>\n",
       "      <th>UMD</th>\n",
       "      <td>0.0901</td>\n",
       "      <td>0.1600</td>\n",
       "      <td>0.5630</td>\n",
       "      <td>-3.8082</td>\n",
       "      <td>-0.3625</td>\n",
       "      <td>-0.4950</td>\n",
       "    </tr>\n",
       "  </tbody>\n",
       "</table>\n",
       "</div>"
      ],
      "text/plain": [
       "     Annualized Mean  Annualized Vol  Annualized Sharpe  Skewness  \\\n",
       "UMD           0.0901          0.1600             0.5630   -3.8082   \n",
       "\n",
       "     MKT Correlation  HML Correlation  \n",
       "UMD          -0.3625          -0.4950  "
      ]
     },
     "metadata": {},
     "output_type": "display_data"
    },
    {
     "data": {
      "text/plain": [
       "'1994-2008:'"
      ]
     },
     "metadata": {},
     "output_type": "display_data"
    },
    {
     "data": {
      "text/html": [
       "<div>\n",
       "<style scoped>\n",
       "    .dataframe tbody tr th:only-of-type {\n",
       "        vertical-align: middle;\n",
       "    }\n",
       "\n",
       "    .dataframe tbody tr th {\n",
       "        vertical-align: top;\n",
       "    }\n",
       "\n",
       "    .dataframe thead th {\n",
       "        text-align: right;\n",
       "    }\n",
       "</style>\n",
       "<table border=\"1\" class=\"dataframe\">\n",
       "  <thead>\n",
       "    <tr style=\"text-align: right;\">\n",
       "      <th></th>\n",
       "      <th>Annualized Mean</th>\n",
       "      <th>Annualized Vol</th>\n",
       "      <th>Annualized Sharpe</th>\n",
       "      <th>Skewness</th>\n",
       "      <th>MKT Correlation</th>\n",
       "      <th>HML Correlation</th>\n",
       "    </tr>\n",
       "  </thead>\n",
       "  <tbody>\n",
       "    <tr>\n",
       "      <th>UMD</th>\n",
       "      <td>0.1044</td>\n",
       "      <td>0.1756</td>\n",
       "      <td>0.5945</td>\n",
       "      <td>-0.5820</td>\n",
       "      <td>-0.2345</td>\n",
       "      <td>-0.1294</td>\n",
       "    </tr>\n",
       "  </tbody>\n",
       "</table>\n",
       "</div>"
      ],
      "text/plain": [
       "     Annualized Mean  Annualized Vol  Annualized Sharpe  Skewness  \\\n",
       "UMD           0.1044          0.1756             0.5945   -0.5820   \n",
       "\n",
       "     MKT Correlation  HML Correlation  \n",
       "UMD          -0.2345          -0.1294  "
      ]
     },
     "metadata": {},
     "output_type": "display_data"
    },
    {
     "data": {
      "text/plain": [
       "'2009-2024:'"
      ]
     },
     "metadata": {},
     "output_type": "display_data"
    },
    {
     "data": {
      "text/html": [
       "<div>\n",
       "<style scoped>\n",
       "    .dataframe tbody tr th:only-of-type {\n",
       "        vertical-align: middle;\n",
       "    }\n",
       "\n",
       "    .dataframe tbody tr th {\n",
       "        vertical-align: top;\n",
       "    }\n",
       "\n",
       "    .dataframe thead th {\n",
       "        text-align: right;\n",
       "    }\n",
       "</style>\n",
       "<table border=\"1\" class=\"dataframe\">\n",
       "  <thead>\n",
       "    <tr style=\"text-align: right;\">\n",
       "      <th></th>\n",
       "      <th>Annualized Mean</th>\n",
       "      <th>Annualized Vol</th>\n",
       "      <th>Annualized Sharpe</th>\n",
       "      <th>Skewness</th>\n",
       "      <th>MKT Correlation</th>\n",
       "      <th>HML Correlation</th>\n",
       "    </tr>\n",
       "  </thead>\n",
       "  <tbody>\n",
       "    <tr>\n",
       "      <th>UMD</th>\n",
       "      <td>-0.0151</td>\n",
       "      <td>0.1585</td>\n",
       "      <td>-0.0952</td>\n",
       "      <td>-2.6910</td>\n",
       "      <td>-0.3676</td>\n",
       "      <td>-0.3209</td>\n",
       "    </tr>\n",
       "  </tbody>\n",
       "</table>\n",
       "</div>"
      ],
      "text/plain": [
       "     Annualized Mean  Annualized Vol  Annualized Sharpe  Skewness  \\\n",
       "UMD          -0.0151          0.1585            -0.0952   -2.6910   \n",
       "\n",
       "     MKT Correlation  HML Correlation  \n",
       "UMD          -0.3676          -0.3209  "
      ]
     },
     "metadata": {},
     "output_type": "display_data"
    }
   ],
   "source": [
    "annual_factor = 12\n",
    "\n",
    "display(\"1927-2024:\")\n",
    "display(pmh.calc_summary_statistics(ff_factors, annual_factor=annual_factor, provided_excess_returns=True, keep_columns=['Annualized Mean', 'Annualized Vol', 'Annualized Sharpe', 'Skewness', 'MKT Correlation', 'HML Correlation'], keep_indexes=['UMD']))\n",
    "\n",
    "display(\"1927-1993:\")\n",
    "display(pmh.calc_summary_statistics(ff_factors.loc['1927':'1993'], annual_factor=annual_factor, provided_excess_returns=True, keep_columns=['Annualized Mean', 'Annualized Vol', 'Annualized Sharpe', 'Skewness', 'MKT Correlation', 'HML Correlation'], keep_indexes=['UMD']))\n",
    "\n",
    "display(\"1994-2008:\")\n",
    "display(pmh.calc_summary_statistics(ff_factors.loc['1994':'2008'], annual_factor=annual_factor, provided_excess_returns=True, keep_columns=['Annualized Mean', 'Annualized Vol', 'Annualized Sharpe', 'Skewness', 'MKT Correlation', 'HML Correlation'], keep_indexes=['UMD']))\n",
    "\n",
    "display(\"2009-2024:\")\n",
    "display(pmh.calc_summary_statistics(ff_factors.loc['2009':'2024'], annual_factor=annual_factor, provided_excess_returns=True, keep_columns=['Annualized Mean', 'Annualized Vol', 'Annualized Sharpe', 'Skewness', 'MKT Correlation', 'HML Correlation'], keep_indexes=['UMD']))"
   ]
  },
  {
   "cell_type": "code",
   "execution_count": 5,
   "metadata": {},
   "outputs": [
    {
     "name": "stdout",
     "output_type": "stream",
     "text": [
      "Assuming excess returns were provided to calculate Sharpe. If returns were provided (steady of excess returns), the column \"Sharpe\" is actually \"Mean/Volatility\"\n"
     ]
    },
    {
     "data": {
      "text/html": [
       "<div>\n",
       "<style scoped>\n",
       "    .dataframe tbody tr th:only-of-type {\n",
       "        vertical-align: middle;\n",
       "    }\n",
       "\n",
       "    .dataframe tbody tr th {\n",
       "        vertical-align: top;\n",
       "    }\n",
       "\n",
       "    .dataframe thead th {\n",
       "        text-align: right;\n",
       "    }\n",
       "</style>\n",
       "<table border=\"1\" class=\"dataframe\">\n",
       "  <thead>\n",
       "    <tr style=\"text-align: right;\">\n",
       "      <th></th>\n",
       "      <th>Annualized Mean</th>\n",
       "      <th>Annualized Vol</th>\n",
       "      <th>Annualized Sharpe</th>\n",
       "      <th>Skewness</th>\n",
       "      <th>MKT Correlation</th>\n",
       "      <th>HML Correlation</th>\n",
       "    </tr>\n",
       "  </thead>\n",
       "  <tbody>\n",
       "    <tr>\n",
       "      <th>UMD 1927-2024</th>\n",
       "      <td>0.0753</td>\n",
       "      <td>0.1625</td>\n",
       "      <td>0.4635</td>\n",
       "      <td>-2.9905</td>\n",
       "      <td>-0.3443</td>\n",
       "      <td>-0.4064</td>\n",
       "    </tr>\n",
       "    <tr>\n",
       "      <th>UMD 1927-1993</th>\n",
       "      <td>0.0901</td>\n",
       "      <td>0.1600</td>\n",
       "      <td>0.5630</td>\n",
       "      <td>-3.8082</td>\n",
       "      <td>-0.3625</td>\n",
       "      <td>-0.4950</td>\n",
       "    </tr>\n",
       "    <tr>\n",
       "      <th>UMD 1994-2008</th>\n",
       "      <td>0.1044</td>\n",
       "      <td>0.1756</td>\n",
       "      <td>0.5945</td>\n",
       "      <td>-0.5820</td>\n",
       "      <td>-0.2345</td>\n",
       "      <td>-0.1294</td>\n",
       "    </tr>\n",
       "    <tr>\n",
       "      <th>UMD 2009-2024</th>\n",
       "      <td>-0.0151</td>\n",
       "      <td>0.1585</td>\n",
       "      <td>-0.0952</td>\n",
       "      <td>-2.6910</td>\n",
       "      <td>-0.3676</td>\n",
       "      <td>-0.3209</td>\n",
       "    </tr>\n",
       "  </tbody>\n",
       "</table>\n",
       "</div>"
      ],
      "text/plain": [
       "               Annualized Mean  Annualized Vol  Annualized Sharpe  Skewness  \\\n",
       "UMD 1927-2024           0.0753          0.1625             0.4635   -2.9905   \n",
       "UMD 1927-1993           0.0901          0.1600             0.5630   -3.8082   \n",
       "UMD 1994-2008           0.1044          0.1756             0.5945   -0.5820   \n",
       "UMD 2009-2024          -0.0151          0.1585            -0.0952   -2.6910   \n",
       "\n",
       "               MKT Correlation  HML Correlation  \n",
       "UMD 1927-2024          -0.3443          -0.4064  \n",
       "UMD 1927-1993          -0.3625          -0.4950  \n",
       "UMD 1994-2008          -0.2345          -0.1294  \n",
       "UMD 2009-2024          -0.3676          -0.3209  "
      ]
     },
     "execution_count": 5,
     "metadata": {},
     "output_type": "execute_result"
    }
   ],
   "source": [
    "annual_factor = 12\n",
    "timeframes={'1927-2024': ['1927-01-31', None],\n",
    "            '1927-1993': ['1927-01-31','1993-12-31'],\n",
    "            '1994-2008': ['1994-01-31','2008-12-31'],\n",
    "            '2009-2024': ['2009-01-31', None]}\n",
    "\n",
    "full_sample = pmh.calc_summary_statistics(ff_factors, annual_factor=annual_factor, correlations=['MKT', 'HML'], keep_columns=['Mean', 'Vol', 'Sharpe', 'Skewness', 'Correlation'], timeframes=timeframes, keep_indexes='UMD')\n",
    "full_sample.drop(['Mean', 'Vol', 'Sharpe'], axis = 1, inplace=True)\n",
    "full_sample"
   ]
  },
  {
   "cell_type": "markdown",
   "metadata": {},
   "source": [
    "#### (b)\n",
    "\n",
    "Yes. The analysis is focused on the Annualized Mean. Momentum is showing a negative return from 2009 onwards, compared to the positive returns it previously had. Vol is quite stable."
   ]
  },
  {
   "cell_type": "markdown",
   "metadata": {},
   "source": [
    "#### (c)\n",
    "\n",
    "The factor has been profitable when AQR was making this argument, and it has a negative correlation to the other factors which makes it very valuable as a diversifier. Even if the true mean return is 0 due to transaction cost, it still has a negative correlation to the other factors, so it's still very valuable as a diversifier. "
   ]
  },
  {
   "cell_type": "markdown",
   "metadata": {},
   "source": [
    "### 2.2"
   ]
  },
  {
   "cell_type": "code",
   "execution_count": 6,
   "metadata": {},
   "outputs": [
    {
     "data": {
      "text/plain": [
       "'1994-2024:'"
      ]
     },
     "metadata": {},
     "output_type": "display_data"
    },
    {
     "data": {
      "text/html": [
       "<div>\n",
       "<style scoped>\n",
       "    .dataframe tbody tr th:only-of-type {\n",
       "        vertical-align: middle;\n",
       "    }\n",
       "\n",
       "    .dataframe tbody tr th {\n",
       "        vertical-align: top;\n",
       "    }\n",
       "\n",
       "    .dataframe thead th {\n",
       "        text-align: right;\n",
       "    }\n",
       "</style>\n",
       "<table border=\"1\" class=\"dataframe\">\n",
       "  <thead>\n",
       "    <tr style=\"text-align: right;\">\n",
       "      <th></th>\n",
       "      <th>Annualized Mean</th>\n",
       "      <th>Annualized Vol</th>\n",
       "      <th>Annualized Sharpe</th>\n",
       "      <th>Skewness</th>\n",
       "      <th>MKT Correlation</th>\n",
       "      <th>HML Correlation</th>\n",
       "    </tr>\n",
       "  </thead>\n",
       "  <tbody>\n",
       "    <tr>\n",
       "      <th>UMD</th>\n",
       "      <td>0.0432</td>\n",
       "      <td>0.1677</td>\n",
       "      <td>0.2575</td>\n",
       "      <td>-1.4460</td>\n",
       "      <td>-0.3062</td>\n",
       "      <td>-0.2152</td>\n",
       "    </tr>\n",
       "    <tr>\n",
       "      <th>UMD Long Only</th>\n",
       "      <td>0.1172</td>\n",
       "      <td>0.1784</td>\n",
       "      <td>0.6569</td>\n",
       "      <td>-0.4448</td>\n",
       "      <td>0.9036</td>\n",
       "      <td>-0.1190</td>\n",
       "    </tr>\n",
       "  </tbody>\n",
       "</table>\n",
       "</div>"
      ],
      "text/plain": [
       "               Annualized Mean  Annualized Vol  Annualized Sharpe  Skewness  \\\n",
       "UMD                     0.0432          0.1677             0.2575   -1.4460   \n",
       "UMD Long Only           0.1172          0.1784             0.6569   -0.4448   \n",
       "\n",
       "               MKT Correlation  HML Correlation  \n",
       "UMD                    -0.3062          -0.2152  \n",
       "UMD Long Only           0.9036          -0.1190  "
      ]
     },
     "metadata": {},
     "output_type": "display_data"
    }
   ],
   "source": [
    "mom_long = (tercile_port['BIG HiPRIOR'] + tercile_port['SMALL HiPRIOR'])/2 - rf['RF']\n",
    "ff_factors['UMD Long Only'] = mom_long\n",
    "display(\"1994-2024:\")\n",
    "display(pmh.calc_summary_statistics(ff_factors.loc['1994':'2024'], annual_factor=12, provided_excess_returns=True, keep_columns=['Annualized Mean', 'Annualized Vol', 'Annualized Sharpe', 'Skewness', 'MKT Correlation', 'HML Correlation'], keep_indexes=['UMD']))"
   ]
  },
  {
   "cell_type": "markdown",
   "metadata": {},
   "source": [
    "#### (b)\n",
    "The sharpe ratio of long-only is generally higher, especially in the post-2009 period, so it's more attractive in terms of its mean and vol."
   ]
  },
  {
   "cell_type": "markdown",
   "metadata": {},
   "source": [
    "#### (c)\n",
    "\n",
    "The correlation to MKT is now huge close to 1, and the correlation to HML has also increased. The long only implementation is no longer a good diversifier."
   ]
  },
  {
   "cell_type": "markdown",
   "metadata": {},
   "source": [
    "#### (d)"
   ]
  },
  {
   "cell_type": "code",
   "execution_count": 7,
   "metadata": {},
   "outputs": [
    {
     "data": {
      "image/png": "[encoded data removed]",
      "text/plain": [
       "<Figure size 1500x700 with 1 Axes>"
      ]
     },
     "metadata": {},
     "output_type": "display_data"
    }
   ],
   "source": [
    "plt.figure(figsize=(15,7))\n",
    "\n",
    "plt.plot((ff_factors['UMD'] + 1).loc['1994':'2024'].cumprod(), label=\"long short\")\n",
    "plt.plot((ff_factors['UMD Long Only'] + 1).loc['1994':'2024'].cumprod(), label='long only')\n",
    "plt.title('Cumulative Returns of Long/Short vs Long Only Momentum')\n",
    "plt.legend()\n",
    "plt.show()"
   ]
  },
  {
   "cell_type": "markdown",
   "metadata": {},
   "source": [
    "### 2.3"
   ]
  },
  {
   "cell_type": "markdown",
   "metadata": {},
   "source": [
    "#### (a)"
   ]
  },
  {
   "cell_type": "code",
   "execution_count": 8,
   "metadata": {},
   "outputs": [
    {
     "data": {
      "text/html": [
       "<div>\n",
       "<style scoped>\n",
       "    .dataframe tbody tr th:only-of-type {\n",
       "        vertical-align: middle;\n",
       "    }\n",
       "\n",
       "    .dataframe tbody tr th {\n",
       "        vertical-align: top;\n",
       "    }\n",
       "\n",
       "    .dataframe thead th {\n",
       "        text-align: right;\n",
       "    }\n",
       "</style>\n",
       "<table border=\"1\" class=\"dataframe\">\n",
       "  <thead>\n",
       "    <tr style=\"text-align: right;\">\n",
       "      <th></th>\n",
       "      <th>Annualized Mean</th>\n",
       "      <th>Annualized Vol</th>\n",
       "      <th>Annualized Sharpe</th>\n",
       "      <th>Skewness</th>\n",
       "      <th>MKT Correlation</th>\n",
       "      <th>HML Correlation</th>\n",
       "    </tr>\n",
       "  </thead>\n",
       "  <tbody>\n",
       "    <tr>\n",
       "      <th>M1</th>\n",
       "      <td>0.0820</td>\n",
       "      <td>0.2990</td>\n",
       "      <td>0.2742</td>\n",
       "      <td>-1.3046</td>\n",
       "      <td>-0.3197</td>\n",
       "      <td>-0.2335</td>\n",
       "    </tr>\n",
       "    <tr>\n",
       "      <th>M3</th>\n",
       "      <td>0.0286</td>\n",
       "      <td>0.1934</td>\n",
       "      <td>0.1476</td>\n",
       "      <td>-1.3450</td>\n",
       "      <td>-0.3617</td>\n",
       "      <td>-0.2115</td>\n",
       "    </tr>\n",
       "    <tr>\n",
       "      <th>M5</th>\n",
       "      <td>0.0164</td>\n",
       "      <td>0.1340</td>\n",
       "      <td>0.1225</td>\n",
       "      <td>-1.4159</td>\n",
       "      <td>-0.3486</td>\n",
       "      <td>-0.2122</td>\n",
       "    </tr>\n",
       "  </tbody>\n",
       "</table>\n",
       "</div>"
      ],
      "text/plain": [
       "    Annualized Mean  Annualized Vol  Annualized Sharpe  Skewness  \\\n",
       "M1           0.0820          0.2990             0.2742   -1.3046   \n",
       "M3           0.0286          0.1934             0.1476   -1.3450   \n",
       "M5           0.0164          0.1340             0.1225   -1.4159   \n",
       "\n",
       "    MKT Correlation  HML Correlation  \n",
       "M1          -0.3197          -0.2335  \n",
       "M3          -0.3617          -0.2115  \n",
       "M5          -0.3486          -0.2122  "
      ]
     },
     "metadata": {},
     "output_type": "display_data"
    }
   ],
   "source": [
    "mom_deciles\n",
    "\n",
    "ff_factors['M1'] = mom_deciles['Hi PRIOR'] - mom_deciles['Lo PRIOR']\n",
    "ff_factors['M3'] = mom_deciles.iloc[:,-3:].mean(axis = 1) - mom_deciles.iloc[:,:3].mean(axis = 1)\n",
    "ff_factors['M5'] = mom_deciles.iloc[:,-5:].mean(axis = 1) - mom_deciles.iloc[:,:5].mean(axis = 1)\n",
    "\n",
    "display(pmh.calc_summary_statistics(ff_factors.loc['1994':'2024'], annual_factor=12, provided_excess_returns=True, keep_columns=['Annualized Mean', 'Annualized Vol', 'Annualized Sharpe', 'Skewness', 'MKT Correlation', 'HML Correlation'], keep_indexes=['M1', 'M3', 'M5']))"
   ]
  },
  {
   "cell_type": "markdown",
   "metadata": {},
   "source": [
    "#### (b)\n",
    "\n",
    "Yes. We see that only using the top decile does provide a highest mean return and highest sharpe, and using 5 deciles provides the lowest mean return and sharpe. It is because that there were more benefits we obtained than just diversification"
   ]
  },
  {
   "cell_type": "markdown",
   "metadata": {},
   "source": [
    "#### (c)\n",
    "\n",
    "They should use 1-decile, because the sharpe ratio is significantly better."
   ]
  },
  {
   "cell_type": "markdown",
   "metadata": {},
   "source": [
    "#### (d)\n",
    "\n",
    "The Fama-French construction has higher return and lower volatility, resulting with higher sharpe ratio. The correlation of the 3-decile against MKT is slightly smaller, however. "
   ]
  },
  {
   "cell_type": "markdown",
   "metadata": {},
   "source": [
    "### 2.4"
   ]
  },
  {
   "cell_type": "markdown",
   "metadata": {},
   "source": [
    "#### (a)"
   ]
  },
  {
   "cell_type": "code",
   "execution_count": 9,
   "metadata": {},
   "outputs": [
    {
     "data": {
      "text/html": [
       "<div>\n",
       "<style scoped>\n",
       "    .dataframe tbody tr th:only-of-type {\n",
       "        vertical-align: middle;\n",
       "    }\n",
       "\n",
       "    .dataframe tbody tr th {\n",
       "        vertical-align: top;\n",
       "    }\n",
       "\n",
       "    .dataframe thead th {\n",
       "        text-align: right;\n",
       "    }\n",
       "</style>\n",
       "<table border=\"1\" class=\"dataframe\">\n",
       "  <thead>\n",
       "    <tr style=\"text-align: right;\">\n",
       "      <th></th>\n",
       "      <th>Annualized Mean</th>\n",
       "      <th>Annualized Vol</th>\n",
       "      <th>Annualized Sharpe</th>\n",
       "      <th>Skewness</th>\n",
       "      <th>MKT Correlation</th>\n",
       "    </tr>\n",
       "  </thead>\n",
       "  <tbody>\n",
       "    <tr>\n",
       "      <th>M all</th>\n",
       "      <td>0.0432</td>\n",
       "      <td>0.1677</td>\n",
       "      <td>0.2575</td>\n",
       "      <td>-1.4460</td>\n",
       "      <td>-0.3062</td>\n",
       "    </tr>\n",
       "    <tr>\n",
       "      <th>M small</th>\n",
       "      <td>0.0632</td>\n",
       "      <td>0.1696</td>\n",
       "      <td>0.3726</td>\n",
       "      <td>-1.7636</td>\n",
       "      <td>-0.3040</td>\n",
       "    </tr>\n",
       "    <tr>\n",
       "      <th>M big</th>\n",
       "      <td>0.0232</td>\n",
       "      <td>0.1825</td>\n",
       "      <td>0.1270</td>\n",
       "      <td>-0.8791</td>\n",
       "      <td>-0.2802</td>\n",
       "    </tr>\n",
       "  </tbody>\n",
       "</table>\n",
       "</div>"
      ],
      "text/plain": [
       "         Annualized Mean  Annualized Vol  Annualized Sharpe  Skewness  \\\n",
       "M all             0.0432          0.1677             0.2575   -1.4460   \n",
       "M small           0.0632          0.1696             0.3726   -1.7636   \n",
       "M big             0.0232          0.1825             0.1270   -0.8791   \n",
       "\n",
       "         MKT Correlation  \n",
       "M all            -0.3062  \n",
       "M small          -0.3040  \n",
       "M big            -0.2802  "
      ]
     },
     "metadata": {},
     "output_type": "display_data"
    }
   ],
   "source": [
    "tercile_port\n",
    "\n",
    "ff_factors['M all'] = ff_factors['UMD']\n",
    "ff_factors.drop(['UMD'], axis = 1, inplace=True)\n",
    "ff_factors['M small'] = tercile_port['SMALL HiPRIOR'] - tercile_port['SMALL LoPRIOR']\n",
    "ff_factors['M big'] = tercile_port['BIG HiPRIOR'] - tercile_port['BIG LoPRIOR']\n",
    "\n",
    "display(pmh.calc_summary_statistics(ff_factors.loc['1994':'2024'], annual_factor=12, provided_excess_returns=True, keep_columns=['Annualized Mean', 'Annualized Vol', 'Annualized Sharpe', 'Skewness', 'MKT Correlation'], keep_indexes=['M all', 'M small', 'M big']))"
   ]
  },
  {
   "cell_type": "markdown",
   "metadata": {},
   "source": [
    "#### (b)\n",
    "\n",
    "Yes. The sharpe ratio from the small stocks is much higher than the large stocks. It is that the M small portfolio has generally higher mean but similar vol compared to others."
   ]
  },
  {
   "cell_type": "markdown",
   "metadata": {},
   "source": [
    "### 2.5\n",
    "\n",
    "The long only approach yields a very high correlation to the market, so it's not a great diversifier like the long-short approach would be. \n",
    "\n",
    "Quarterly rebalancing could result in significant deviations from the benchmark. Much of the return is coming from the small stocks, so I think dealing with the execution challenges of trading small stocks is necessary. "
   ]
  },
  {
   "cell_type": "markdown",
   "metadata": {},
   "source": [
    "## 4"
   ]
  },
  {
   "cell_type": "markdown",
   "metadata": {},
   "source": [
    "### 4.1"
   ]
  },
  {
   "cell_type": "markdown",
   "metadata": {},
   "source": [
    "#### (a)"
   ]
  },
  {
   "cell_type": "code",
   "execution_count": 10,
   "metadata": {},
   "outputs": [
    {
     "data": {
      "text/html": [
       "<div>\n",
       "<style scoped>\n",
       "    .dataframe tbody tr th:only-of-type {\n",
       "        vertical-align: middle;\n",
       "    }\n",
       "\n",
       "    .dataframe tbody tr th {\n",
       "        vertical-align: top;\n",
       "    }\n",
       "\n",
       "    .dataframe thead tr th {\n",
       "        text-align: left;\n",
       "    }\n",
       "</style>\n",
       "<table border=\"1\" class=\"dataframe\">\n",
       "  <thead>\n",
       "    <tr>\n",
       "      <th></th>\n",
       "      <th>Sample</th>\n",
       "      <th colspan=\"2\" halign=\"left\">1965-1999</th>\n",
       "      <th colspan=\"2\" halign=\"left\">2000-2024</th>\n",
       "      <th colspan=\"2\" halign=\"left\">1926-2024</th>\n",
       "    </tr>\n",
       "    <tr>\n",
       "      <th></th>\n",
       "      <th>Statistic</th>\n",
       "      <th>mean</th>\n",
       "      <th>vol</th>\n",
       "      <th>mean</th>\n",
       "      <th>vol</th>\n",
       "      <th>mean</th>\n",
       "      <th>vol</th>\n",
       "    </tr>\n",
       "  </thead>\n",
       "  <tbody>\n",
       "    <tr>\n",
       "      <th rowspan=\"3\" valign=\"top\">level</th>\n",
       "      <th>rm</th>\n",
       "      <td>0.1294</td>\n",
       "      <td>0.1494</td>\n",
       "      <td>0.0873</td>\n",
       "      <td>0.1531</td>\n",
       "      <td>0.1155</td>\n",
       "      <td>0.1868</td>\n",
       "    </tr>\n",
       "    <tr>\n",
       "      <th>rm tilde</th>\n",
       "      <td>0.0679</td>\n",
       "      <td>0.1501</td>\n",
       "      <td>0.0701</td>\n",
       "      <td>0.1533</td>\n",
       "      <td>0.0838</td>\n",
       "      <td>0.1871</td>\n",
       "    </tr>\n",
       "    <tr>\n",
       "      <th>rf</th>\n",
       "      <td>0.0615</td>\n",
       "      <td>0.0072</td>\n",
       "      <td>0.0172</td>\n",
       "      <td>0.0055</td>\n",
       "      <td>0.0317</td>\n",
       "      <td>0.0085</td>\n",
       "    </tr>\n",
       "    <tr>\n",
       "      <th rowspan=\"3\" valign=\"top\">log</th>\n",
       "      <th>rm</th>\n",
       "      <td>0.1176</td>\n",
       "      <td>0.1496</td>\n",
       "      <td>0.0753</td>\n",
       "      <td>0.1540</td>\n",
       "      <td>0.0978</td>\n",
       "      <td>0.1861</td>\n",
       "    </tr>\n",
       "    <tr>\n",
       "      <th>rm tilde</th>\n",
       "      <td>0.0564</td>\n",
       "      <td>0.1511</td>\n",
       "      <td>0.0581</td>\n",
       "      <td>0.1545</td>\n",
       "      <td>0.0662</td>\n",
       "      <td>0.1866</td>\n",
       "    </tr>\n",
       "    <tr>\n",
       "      <th>rf</th>\n",
       "      <td>0.0613</td>\n",
       "      <td>0.0071</td>\n",
       "      <td>0.0172</td>\n",
       "      <td>0.0055</td>\n",
       "      <td>0.0317</td>\n",
       "      <td>0.0085</td>\n",
       "    </tr>\n",
       "  </tbody>\n",
       "</table>\n",
       "</div>"
      ],
      "text/plain": [
       "Sample         1965-1999        2000-2024        1926-2024       \n",
       "Statistic           mean    vol      mean    vol      mean    vol\n",
       "level rm          0.1294 0.1494    0.0873 0.1531    0.1155 0.1868\n",
       "      rm tilde    0.0679 0.1501    0.0701 0.1533    0.0838 0.1871\n",
       "      rf          0.0615 0.0072    0.0172 0.0055    0.0317 0.0085\n",
       "log   rm          0.1176 0.1496    0.0753 0.1540    0.0978 0.1861\n",
       "      rm tilde    0.0564 0.1511    0.0581 0.1545    0.0662 0.1866\n",
       "      rf          0.0613 0.0071    0.0172 0.0055    0.0317 0.0085"
      ]
     },
     "metadata": {},
     "output_type": "display_data"
    }
   ],
   "source": [
    "bad = pmh.read_excel_default('../data/barnstable_analysis_data.xlsx', sheet_name='data')\n",
    "bad.fillna(method='ffill', inplace=True)\n",
    "\n",
    "bad['rm'] = bad['SPX']\n",
    "bad['rm tilde'] = bad['SPX'] - bad['TB1M']\n",
    "bad['rf'] = bad['TB1M']\n",
    "\n",
    "bad['log rm'] = np.log(bad['rm'] + 1)\n",
    "bad['log rm tilde'] = np.log(bad['rm tilde'] + 1)\n",
    "bad['log rf'] = np.log(bad['rf'] + 1)\n",
    "\n",
    "col = pd.MultiIndex.from_tuples(\n",
    "    [('level', 'rm'), ('level', 'rm tilde'), ('level', 'rf'), ('log', 'rm'), ('log', 'rm tilde'), ('log', 'rf')]\n",
    ")\n",
    "\n",
    "tmp = bad[['rm', 'rm tilde', 'rf', 'log rm', 'log rm tilde', 'log rf']]\n",
    "tmp.columns = col\n",
    "\n",
    "index = pd.MultiIndex.from_tuples(\n",
    "    [('1965-1999', 'mean'), ('1965-1999', 'vol'), ('2000-2024', 'mean'), ('2000-2024', 'vol'), ('1926-2024', 'mean'), ('1926-2024', 'vol')],\n",
    "    names=['Sample', 'Statistic']\n",
    ")\n",
    "\n",
    "out = pd.DataFrame([tmp.loc['1965':'1999'].mean() * annual_factor, tmp.loc['1965':'1999'].std() * np.sqrt(annual_factor), \n",
    "                    tmp.loc['2000':'2024'].mean() * annual_factor, tmp.loc['2000':'2024'].std() * np.sqrt(annual_factor), \n",
    "                    tmp.loc['1926':'2024'].mean() * annual_factor, tmp.loc['1926':'2024'].std() * np.sqrt(annual_factor)], index=index)\n",
    "\n",
    "out = out.T\n",
    "display(out)"
   ]
  },
  {
   "cell_type": "markdown",
   "metadata": {},
   "source": [
    "#### (b)\n",
    "\n",
    "The mean and vol of the full sample stats are in between those of the subsample stats. This makes sense since the full sample stats should reflect the average between all the subsamples. \n",
    "\n",
    "The level stats are all slightly larger than the log stats in regards mean, and the vol are similar. "
   ]
  },
  {
   "cell_type": "markdown",
   "metadata": {},
   "source": [
    "### 4.2\n",
    "\n",
    "#### (a)"
   ]
  },
  {
   "cell_type": "code",
   "execution_count": 11,
   "metadata": {},
   "outputs": [
    {
     "name": "stdout",
     "output_type": "stream",
     "text": [
      "The stats of (a) is 1.36%\n"
     ]
    }
   ],
   "source": [
    "def prob(mu, sigma, h):\n",
    "    return norm.cdf(np.sqrt(h)*mu/sigma)\n",
    "\n",
    "mu, sigma = out['1965-1999'].loc[('log', 'rm tilde')]\n",
    "h = 2000-1965\n",
    "print(f\"The stats of (a) is {prob(mu = -mu, sigma = sigma, h = h):,.2%}\")"
   ]
  },
  {
   "cell_type": "markdown",
   "metadata": {},
   "source": [
    "#### (b)(c)"
   ]
  },
  {
   "cell_type": "code",
   "execution_count": 12,
   "metadata": {},
   "outputs": [
    {
     "name": "stdout",
     "output_type": "stream",
     "text": [
      "SPX underperforming RF in the next 15 years after 1999: 7.42%\n",
      "SPX underperforming RF in the next 30 years after 1999: 2.05%\n"
     ]
    },
    {
     "data": {
      "text/plain": [
       "<Axes: >"
      ]
     },
     "execution_count": 12,
     "metadata": {},
     "output_type": "execute_result"
    },
    {
     "data": {
      "image/png": "[encoded data removed]",
      "text/plain": [
       "<Figure size 640x480 with 1 Axes>"
      ]
     },
     "metadata": {},
     "output_type": "display_data"
    }
   ],
   "source": [
    "print(f'SPX underperforming RF in the next 15 years after 1999: {prob(mu = -mu, sigma = sigma, h = 15):,.2%}')\n",
    "\n",
    "print(f'SPX underperforming RF in the next 30 years after 1999: {prob(mu = -mu, sigma = sigma, h = 30):,.2%}')\n",
    "\n",
    "h = np.arange(30) + 1\n",
    "probs = pd.DataFrame([prob(-mu, sigma, x) for x in h], columns=['Probability of Underperformance'], index = h)\n",
    "probs.plot()"
   ]
  },
  {
   "cell_type": "markdown",
   "metadata": {},
   "source": [
    "### 4.3"
   ]
  },
  {
   "cell_type": "code",
   "execution_count": 13,
   "metadata": {},
   "outputs": [
    {
     "data": {
      "image/png": "[encoded data removed]",
      "text/plain": [
       "<Figure size 640x480 with 1 Axes>"
      ]
     },
     "metadata": {},
     "output_type": "display_data"
    }
   ],
   "source": [
    "mu_1965_2024 = np.log((bad[bad.index.year >= 1965]['SPX'] - bad[bad.index.year >= 1965]['TB1M']) + 1).mean() * 12\n",
    "sigma_1965_2024 = np.log((bad[bad.index.year >= 1965]['SPX'] - bad[bad.index.year >= 1965]['TB1M']) + 1).std() * np.sqrt(12)\n",
    "h = np.arange(31)\n",
    "\n",
    "plt.plot(h, norm.cdf(np.sqrt(h) * (-mu_1965_2024) / sigma_1965_2024), label = 'Probability of Underperformance')\n",
    "plt.title('Sample from 1965 to 2024')\n",
    "plt.xlabel('Years')\n",
    "plt.ylabel('Probability')\n",
    "plt.legend()\n",
    "plt.grid()\n",
    "plt.show()"
   ]
  },
  {
   "cell_type": "markdown",
   "metadata": {},
   "source": [
    "### 4.4"
   ]
  },
  {
   "cell_type": "code",
   "execution_count": 14,
   "metadata": {},
   "outputs": [
    {
     "name": "stdout",
     "output_type": "stream",
     "text": [
      "Probability of underperformance in 2000-2024: 7.8458%\n"
     ]
    }
   ],
   "source": [
    "estimated_mean, estimated_sigma = out.loc[('log', 'rm'), '1965-1999']\n",
    "realized_mean, realized_sigma = out.loc[('log', 'rm'), '2000-2024']\n",
    "\n",
    "print(f'Probability of underperformance in 2000-2024: {norm.cdf(np.sqrt(25) * (-(estimated_mean - realized_mean)) / estimated_sigma):.4%}')"
   ]
  }
 ],
 "metadata": {
  "kernelspec": {
   "display_name": "finm",
   "language": "python",
   "name": "python3"
  },
  "language_info": {
   "codemirror_mode": {
    "name": "ipython",
    "version": 3
   },
   "file_extension": ".py",
   "mimetype": "text/x-python",
   "name": "python",
   "nbconvert_exporter": "python",
   "pygments_lexer": "ipython3",
   "version": "3.12.4"
  }
 },
 "nbformat": 4,
 "nbformat_minor": 2
}
