{
 "cells": [
  {
   "cell_type": "markdown",
   "id": "559895d2",
   "metadata": {},
   "source": [
    "# Midterm 2\n",
    "\n",
    "## FINM 36700 - 2024\n",
    "\n",
    "### UChicago Financial Mathematics\n",
    "\n",
    "* Mark Hendricks\n",
    "* hendricks@uchicago.edu"
   ]
  },
  {
   "cell_type": "markdown",
   "id": "01cde8d3",
   "metadata": {},
   "source": [
    "# Instructions"
   ]
  },
  {
   "cell_type": "markdown",
   "id": "cc273c1a",
   "metadata": {},
   "source": [
    "## Please note the following:\n",
    "\n",
    "Points\n",
    "* The exam is 100 points.\n",
    "* You have 120 minutes to complete the exam.\n",
    "* For every minute late you submit the exam, you will lose one point.\n",
    "\n",
    "\n",
    "Submission\n",
    "* You will upload your solution to the `Midterm 2` assignment on Canvas, where you downloaded this. \n",
    "* Be sure to **submit** on Canvas, not just **save** on Canvas.\n",
    "* Your submission should be readable, (the graders can understand your answers.)\n",
    "* Your submission should **include all code used in your analysis in a file format that the code can be executed.** \n",
    "\n",
    "Rules\n",
    "* The exam is open-material, closed-communication.\n",
    "* You do not need to cite material from the course github repo - you are welcome to use the code posted there without citation.\n",
    "\n",
    "Advice\n",
    "* If you find any question to be unclear, state your interpretation and proceed. We will only answer questions of interpretation if there is a typo, error, etc.\n",
    "* The exam will be graded for partial credit."
   ]
  },
  {
   "cell_type": "markdown",
   "id": "624f27b1",
   "metadata": {},
   "source": [
    "## Data\n",
    "\n",
    "**All data files are found in the class github repo, in the `data` folder.**\n",
    "\n",
    "This exam makes use of the following data files:\n",
    "* `midterm_2_data.xlsx`\n",
    "\n",
    "This file contains the following sheets:\n",
    "- for Section 2:\n",
    "    * `sector stocks excess returns` - MONTHLY excess returns for 49 sector stocks\n",
    "    * `factors excess returns` - MONTHLY excess returns of AQR factor model from Homework 5\n",
    "- for Section 3:\n",
    "    * `factors excess returns` - MONTHLY excess returns of AQR factor model from Homework 5"
   ]
  },
  {
   "cell_type": "markdown",
   "id": "ebf6e066",
   "metadata": {},
   "source": [
    "## Scoring\n",
    "\n",
    "| Problem | Points |\n",
    "|---------|--------|\n",
    "| 1       | 25     |\n",
    "| 2       | 40     |\n",
    "| 3       | 35     |"
   ]
  },
  {
   "cell_type": "markdown",
   "id": "7fb2fc26",
   "metadata": {},
   "source": [
    "### Each numbered question is worth 5 points unless otherwise specified."
   ]
  },
  {
   "cell_type": "markdown",
   "id": "81156e8f",
   "metadata": {},
   "source": [
    "# 1. Short Answer"
   ]
  },
  {
   "cell_type": "markdown",
   "id": "b2cf4bc8",
   "metadata": {},
   "source": [
    "#### No Data Needed\n",
    "\n",
    "These problems do not require any data file. Rather, analyze them conceptually. "
   ]
  },
  {
   "cell_type": "markdown",
   "id": "4ed2ec27",
   "metadata": {},
   "source": [
    "### 1.1.\n",
    "\n",
    "Historically, which pricing factor among the ones we studied has shown a considerable decrease in importance?"
   ]
  },
  {
   "cell_type": "markdown",
   "id": "c760f036",
   "metadata": {},
   "source": [
    "Answer:\n",
    "\n",
    "It is the SML factor, which represents the excess return of small-cap stocks over large-cap stocks"
   ]
  },
  {
   "cell_type": "markdown",
   "id": "c65c8109",
   "metadata": {
    "vscode": {
     "languageId": "plaintext"
    }
   },
   "source": [
    "### 1.2.\n",
    "\n",
    "True or False: For a given factor model and a set of test assets, the addition of one more factor to that model will surely decrease the cross-sectional MAE. \n",
    "\n",
    "True or False: For a given factor model and a set of test assets, the addition of one more factor to that model will surely decrease the time-series MAE. \n",
    "\n",
    "Along with stating T/F, explain your reasoning for the two statements."
   ]
  },
  {
   "cell_type": "markdown",
   "id": "0b72ff78",
   "metadata": {},
   "source": [
    "Answer: \n",
    "\n",
    "1. True. From the lecture, it is shown that generally the cross-sectional MAE decreases. As it is true that for a given time point, adding more factors can explain more of the variation. From the lecture it is shown that from CAPM to FF3 then to FF5, the MAE reduces from 0.0215 to 0.0162 then to 0.0136. However, the MAE from FF3 to AQR 4 factor model changes from 0.0162 to 0.0169, which is inconsistent with the analysis above, which may come from the measure error or data problem, but not the theory itself.\n",
    "\n",
    "2. False. From the lecture, the result from CAPM to FF3 then to FF5, the MAE changes from 0.0212 to 0.0253 then to 0.0296. It is because the time series regression cares more about whether the alpha term is zero, but not consider much about the variation of the data itself. While adding a new factor increases model flexibility, it only reduces MAE if the added factor is relevant to the time series itself."
   ]
  },
  {
   "cell_type": "markdown",
   "id": "24c00026",
   "metadata": {},
   "source": [
    "### 1.3.\n",
    "\n",
    "Consider the scenario in which you are helping two people with investments.\n",
    "\n",
    "* The young person has a 50 year investment horizon.\n",
    "* The elderly person has a 10 year investment horizon.\n",
    "* Both individuals have the same portfolio holdings.\n",
    "\n",
    "State who has the more certain cumulative return and explain your reasoning."
   ]
  },
  {
   "cell_type": "markdown",
   "id": "6fb67bc2",
   "metadata": {},
   "source": [
    "Answer:\n",
    "\n",
    "The elderly person with a 10-year investment horizon has the more certain cumulative return. \n",
    "\n",
    "Firstly, when considering investment returns over multiple periods, the variance (or uncertainty) of the cumulative return increases with the length of the time horizon, which is given by the geometric brownian motion of stock price.\n",
    "\n",
    "Secondly, the uncertainty of the future also increases if we give an investment for a young person of 50 year investment horizon, which is unpredictable and unmeasurable. It is possible that many things will change in the following 40 years than the elderly person.\n",
    "\n",
    "Thirdly, elderly person is more risk-averse, which requires us to give a lower risk but more stable investment for them, like pension fund investment."
   ]
  },
  {
   "cell_type": "markdown",
   "id": "460d4d72",
   "metadata": {},
   "source": [
    "### 1.4.\n",
    "\n",
    "Suppose we find that the 10-year bond yield works well as a new pricing factor, along with `MKT`.\n",
    "\n",
    "Consider two ways of building this new factor.\n",
    "1. Directly use the index of 10-year yields, `YLD`\n",
    "1. Construct a Fama-French style portfolio of equities, `FFYLD`. (Rank all the stocks by their correlation to bond yield changes, and go long the highest ranked and short the lowest ranked.)\n",
    "\n",
    "Could you test the model with `YLD` and the model with `FFYLD` in the exact same ways? Explain."
   ]
  },
  {
   "cell_type": "markdown",
   "id": "3b28f99f",
   "metadata": {},
   "source": [
    "Answer:\n",
    "\n",
    "No. YLD is a non-tradable macroeconomic index that is calculated based on many 10-year government bonds, and it's hard to think about what the risk premium is for YLD if we do a regression of it with MKT. However, if we use the Fama-French model to construct the FFYLD, we use the exact equities data to build the tradable asset, and the positions are also set by the historical ranking according to their correlation with the bond yield. Firslty, by nature it is a tradable asset that different factors will have impact on that, for example companies' idiosyncratic risk. Secondly, determining how much to long and how much to short for this replication is questionable.\n"
   ]
  },
  {
   "cell_type": "markdown",
   "id": "edf2d238",
   "metadata": {},
   "source": [
    "### 1.5.\n",
    "\n",
    "Suppose we implement a momentum strategy on cryptocurrencies rather than US stocks.\n",
    "\n",
    "Conceptually speaking, but specific to the context of our course discussion, how would the risk profile differ from the momentum strategy of US equities?"
   ]
  },
  {
   "cell_type": "markdown",
   "id": "e7948428",
   "metadata": {},
   "source": [
    "Answer:\n",
    "\n",
    "Firstly, crypto market is less efficient than the US market, where we believe that it should have higher volatility and more idiosyncratic risk that the coins undertake. Additionally, the macroeconomic condition may influence more on the crypto markets than just the US equities, hence maybe the momentum of crypto comes more from the exogenous variable but not its own momentum factor. "
   ]
  },
  {
   "cell_type": "markdown",
   "id": "632ce7d4",
   "metadata": {},
   "source": [
    "***"
   ]
  },
  {
   "cell_type": "markdown",
   "id": "f7a8a354",
   "metadata": {
    "vscode": {
     "languageId": "plaintext"
    }
   },
   "source": [
    "# 2. Pricing and Tangency Portfolio\n",
    "\n",
    "You work in a hedge fund that believes that the AQR 4-Factor Model (present in Homework 5) is the perfect pricing model for stocks.\n",
    "\n",
    "$$\n",
    "\\mathbb{E} \\left[ \\tilde{r}^i \\right] = \\beta^{i,\\text{MKT}} \\mathbb{E} \\left[ \\tilde{f}_{\\text{MKT}} \\right] + \\beta^{i,\\text{HML}} \\mathbb{E} \\left[ \\tilde{f}_{\\text{HML}} \\right] + \\beta^{i,\\text{RMW}} \\mathbb{E} \\left[ \\tilde{f}_{\\text{RMW}} \\right] + \\beta^{i,\\text{UMD}} \\mathbb{E} \\left[ \\tilde{f}_{\\text{UMD}} \\right]\n",
    "$$\n",
    "\n",
    "The factors are available in the sheet `factors excess returns`.\n",
    "\n",
    "The hedge fund invests in sector-tracking ETFs available in the sheet `sectors excess returns`. You are to allocate into these sectors according to a mean-variance optimization with...\n",
    "\n",
    "* regularization: elements outside the diagonal covariance matrix divided by 2.\n",
    "* modeled risk premia: expected excess returns given by the factor model rather than just using the historic sample averages.\n",
    "\n",
    "You are to train the portfolio and test out-of-sample. The timeframes should be:\n",
    "* Training timeframe: Jan-2018 to Dec-2022.\n",
    "* Testing timeframe: Jan-2023 to most recent observation."
   ]
  },
  {
   "cell_type": "code",
   "execution_count": 65,
   "id": "aa450dbd",
   "metadata": {},
   "outputs": [],
   "source": [
    "import pandas as pd\n",
    "import numpy as np\n",
    "import os\n",
    "import matplotlib.pyplot as plt\n",
    "import re\n",
    "import statsmodels.api as sm\n",
    "from scipy.stats import norm"
   ]
  },
  {
   "cell_type": "code",
   "execution_count": 43,
   "id": "a5bddb89",
   "metadata": {},
   "outputs": [],
   "source": [
    "import sys\n",
    "sys.path.insert(0,'../cmds')\n",
    "import portfolio_management_helper as pmh"
   ]
  },
  {
   "cell_type": "code",
   "execution_count": 44,
   "id": "e6f8369d",
   "metadata": {},
   "outputs": [
    {
     "data": {
      "text/html": [
       "<div>\n",
       "<style scoped>\n",
       "    .dataframe tbody tr th:only-of-type {\n",
       "        vertical-align: middle;\n",
       "    }\n",
       "\n",
       "    .dataframe tbody tr th {\n",
       "        vertical-align: top;\n",
       "    }\n",
       "\n",
       "    .dataframe thead th {\n",
       "        text-align: right;\n",
       "    }\n",
       "</style>\n",
       "<table border=\"1\" class=\"dataframe\">\n",
       "  <thead>\n",
       "    <tr style=\"text-align: right;\">\n",
       "      <th></th>\n",
       "      <th>Agric</th>\n",
       "      <th>Food</th>\n",
       "      <th>Soda</th>\n",
       "      <th>Beer</th>\n",
       "      <th>Smoke</th>\n",
       "      <th>Toys</th>\n",
       "      <th>Fun</th>\n",
       "      <th>Books</th>\n",
       "      <th>Hshld</th>\n",
       "      <th>Clths</th>\n",
       "      <th>...</th>\n",
       "      <th>Boxes</th>\n",
       "      <th>Trans</th>\n",
       "      <th>Whlsl</th>\n",
       "      <th>Rtail</th>\n",
       "      <th>Meals</th>\n",
       "      <th>Banks</th>\n",
       "      <th>Insur</th>\n",
       "      <th>RlEst</th>\n",
       "      <th>Fin</th>\n",
       "      <th>Other</th>\n",
       "    </tr>\n",
       "    <tr>\n",
       "      <th>date</th>\n",
       "      <th></th>\n",
       "      <th></th>\n",
       "      <th></th>\n",
       "      <th></th>\n",
       "      <th></th>\n",
       "      <th></th>\n",
       "      <th></th>\n",
       "      <th></th>\n",
       "      <th></th>\n",
       "      <th></th>\n",
       "      <th></th>\n",
       "      <th></th>\n",
       "      <th></th>\n",
       "      <th></th>\n",
       "      <th></th>\n",
       "      <th></th>\n",
       "      <th></th>\n",
       "      <th></th>\n",
       "      <th></th>\n",
       "      <th></th>\n",
       "      <th></th>\n",
       "    </tr>\n",
       "  </thead>\n",
       "  <tbody>\n",
       "    <tr>\n",
       "      <th>1980-01-01</th>\n",
       "      <td>-0.0076</td>\n",
       "      <td>0.0285</td>\n",
       "      <td>0.0084</td>\n",
       "      <td>0.1009</td>\n",
       "      <td>-0.0143</td>\n",
       "      <td>0.1002</td>\n",
       "      <td>0.0362</td>\n",
       "      <td>0.0323</td>\n",
       "      <td>0.0048</td>\n",
       "      <td>0.0059</td>\n",
       "      <td>...</td>\n",
       "      <td>0.0158</td>\n",
       "      <td>0.0875</td>\n",
       "      <td>0.0465</td>\n",
       "      <td>-0.0126</td>\n",
       "      <td>0.0430</td>\n",
       "      <td>-0.0283</td>\n",
       "      <td>0.0258</td>\n",
       "      <td>0.0768</td>\n",
       "      <td>0.0308</td>\n",
       "      <td>0.0669</td>\n",
       "    </tr>\n",
       "    <tr>\n",
       "      <th>1980-02-01</th>\n",
       "      <td>0.0105</td>\n",
       "      <td>-0.0608</td>\n",
       "      <td>-0.0966</td>\n",
       "      <td>-0.0322</td>\n",
       "      <td>-0.0569</td>\n",
       "      <td>-0.0323</td>\n",
       "      <td>-0.0521</td>\n",
       "      <td>-0.0800</td>\n",
       "      <td>-0.0555</td>\n",
       "      <td>-0.0167</td>\n",
       "      <td>...</td>\n",
       "      <td>-0.0079</td>\n",
       "      <td>-0.0541</td>\n",
       "      <td>-0.0346</td>\n",
       "      <td>-0.0639</td>\n",
       "      <td>-0.0652</td>\n",
       "      <td>-0.0854</td>\n",
       "      <td>-0.0959</td>\n",
       "      <td>-0.0347</td>\n",
       "      <td>-0.0282</td>\n",
       "      <td>-0.0274</td>\n",
       "    </tr>\n",
       "    <tr>\n",
       "      <th>1980-03-01</th>\n",
       "      <td>-0.2224</td>\n",
       "      <td>-0.1119</td>\n",
       "      <td>-0.0167</td>\n",
       "      <td>-0.1469</td>\n",
       "      <td>-0.0193</td>\n",
       "      <td>-0.1271</td>\n",
       "      <td>-0.0826</td>\n",
       "      <td>-0.1237</td>\n",
       "      <td>-0.0566</td>\n",
       "      <td>-0.0668</td>\n",
       "      <td>...</td>\n",
       "      <td>-0.0819</td>\n",
       "      <td>-0.1509</td>\n",
       "      <td>-0.1098</td>\n",
       "      <td>-0.0906</td>\n",
       "      <td>-0.1449</td>\n",
       "      <td>-0.0560</td>\n",
       "      <td>-0.0880</td>\n",
       "      <td>-0.2451</td>\n",
       "      <td>-0.1254</td>\n",
       "      <td>-0.1726</td>\n",
       "    </tr>\n",
       "    <tr>\n",
       "      <th>1980-04-01</th>\n",
       "      <td>0.0449</td>\n",
       "      <td>0.0766</td>\n",
       "      <td>0.0232</td>\n",
       "      <td>0.0321</td>\n",
       "      <td>0.0830</td>\n",
       "      <td>-0.0529</td>\n",
       "      <td>0.0783</td>\n",
       "      <td>0.0153</td>\n",
       "      <td>0.0304</td>\n",
       "      <td>0.0115</td>\n",
       "      <td>...</td>\n",
       "      <td>0.0420</td>\n",
       "      <td>-0.0103</td>\n",
       "      <td>-0.0312</td>\n",
       "      <td>0.0353</td>\n",
       "      <td>0.0542</td>\n",
       "      <td>0.0728</td>\n",
       "      <td>0.0530</td>\n",
       "      <td>0.0977</td>\n",
       "      <td>0.0447</td>\n",
       "      <td>0.0769</td>\n",
       "    </tr>\n",
       "    <tr>\n",
       "      <th>1980-05-01</th>\n",
       "      <td>0.0632</td>\n",
       "      <td>0.0793</td>\n",
       "      <td>0.0457</td>\n",
       "      <td>0.0863</td>\n",
       "      <td>0.0815</td>\n",
       "      <td>0.0509</td>\n",
       "      <td>0.0324</td>\n",
       "      <td>0.0886</td>\n",
       "      <td>0.0560</td>\n",
       "      <td>0.0098</td>\n",
       "      <td>...</td>\n",
       "      <td>0.0564</td>\n",
       "      <td>0.1063</td>\n",
       "      <td>0.1142</td>\n",
       "      <td>0.0877</td>\n",
       "      <td>0.1134</td>\n",
       "      <td>0.0578</td>\n",
       "      <td>0.0557</td>\n",
       "      <td>0.0915</td>\n",
       "      <td>0.0844</td>\n",
       "      <td>0.0685</td>\n",
       "    </tr>\n",
       "  </tbody>\n",
       "</table>\n",
       "<p>5 rows × 49 columns</p>\n",
       "</div>"
      ],
      "text/plain": [
       "             Agric    Food    Soda    Beer   Smoke    Toys     Fun   Books  \\\n",
       "date                                                                         \n",
       "1980-01-01 -0.0076  0.0285  0.0084  0.1009 -0.0143  0.1002  0.0362  0.0323   \n",
       "1980-02-01  0.0105 -0.0608 -0.0966 -0.0322 -0.0569 -0.0323 -0.0521 -0.0800   \n",
       "1980-03-01 -0.2224 -0.1119 -0.0167 -0.1469 -0.0193 -0.1271 -0.0826 -0.1237   \n",
       "1980-04-01  0.0449  0.0766  0.0232  0.0321  0.0830 -0.0529  0.0783  0.0153   \n",
       "1980-05-01  0.0632  0.0793  0.0457  0.0863  0.0815  0.0509  0.0324  0.0886   \n",
       "\n",
       "             Hshld   Clths  ...   Boxes   Trans   Whlsl   Rtail   Meals  \\\n",
       "date                        ...                                           \n",
       "1980-01-01  0.0048  0.0059  ...  0.0158  0.0875  0.0465 -0.0126  0.0430   \n",
       "1980-02-01 -0.0555 -0.0167  ... -0.0079 -0.0541 -0.0346 -0.0639 -0.0652   \n",
       "1980-03-01 -0.0566 -0.0668  ... -0.0819 -0.1509 -0.1098 -0.0906 -0.1449   \n",
       "1980-04-01  0.0304  0.0115  ...  0.0420 -0.0103 -0.0312  0.0353  0.0542   \n",
       "1980-05-01  0.0560  0.0098  ...  0.0564  0.1063  0.1142  0.0877  0.1134   \n",
       "\n",
       "             Banks   Insur   RlEst     Fin   Other  \n",
       "date                                                \n",
       "1980-01-01 -0.0283  0.0258  0.0768  0.0308  0.0669  \n",
       "1980-02-01 -0.0854 -0.0959 -0.0347 -0.0282 -0.0274  \n",
       "1980-03-01 -0.0560 -0.0880 -0.2451 -0.1254 -0.1726  \n",
       "1980-04-01  0.0728  0.0530  0.0977  0.0447  0.0769  \n",
       "1980-05-01  0.0578  0.0557  0.0915  0.0844  0.0685  \n",
       "\n",
       "[5 rows x 49 columns]"
      ]
     },
     "metadata": {},
     "output_type": "display_data"
    },
    {
     "name": "stdout",
     "output_type": "stream",
     "text": [
      "(536, 49)\n"
     ]
    },
    {
     "data": {
      "text/html": [
       "<div>\n",
       "<style scoped>\n",
       "    .dataframe tbody tr th:only-of-type {\n",
       "        vertical-align: middle;\n",
       "    }\n",
       "\n",
       "    .dataframe tbody tr th {\n",
       "        vertical-align: top;\n",
       "    }\n",
       "\n",
       "    .dataframe thead th {\n",
       "        text-align: right;\n",
       "    }\n",
       "</style>\n",
       "<table border=\"1\" class=\"dataframe\">\n",
       "  <thead>\n",
       "    <tr style=\"text-align: right;\">\n",
       "      <th></th>\n",
       "      <th>MKT</th>\n",
       "      <th>HML</th>\n",
       "      <th>RMW</th>\n",
       "      <th>UMD</th>\n",
       "    </tr>\n",
       "    <tr>\n",
       "      <th>date</th>\n",
       "      <th></th>\n",
       "      <th></th>\n",
       "      <th></th>\n",
       "      <th></th>\n",
       "    </tr>\n",
       "  </thead>\n",
       "  <tbody>\n",
       "    <tr>\n",
       "      <th>1980-01-01</th>\n",
       "      <td>0.0551</td>\n",
       "      <td>0.0175</td>\n",
       "      <td>-0.0170</td>\n",
       "      <td>0.0755</td>\n",
       "    </tr>\n",
       "    <tr>\n",
       "      <th>1980-02-01</th>\n",
       "      <td>-0.0122</td>\n",
       "      <td>0.0061</td>\n",
       "      <td>0.0004</td>\n",
       "      <td>0.0788</td>\n",
       "    </tr>\n",
       "    <tr>\n",
       "      <th>1980-03-01</th>\n",
       "      <td>-0.1290</td>\n",
       "      <td>-0.0101</td>\n",
       "      <td>0.0146</td>\n",
       "      <td>-0.0955</td>\n",
       "    </tr>\n",
       "    <tr>\n",
       "      <th>1980-04-01</th>\n",
       "      <td>0.0397</td>\n",
       "      <td>0.0106</td>\n",
       "      <td>-0.0210</td>\n",
       "      <td>-0.0043</td>\n",
       "    </tr>\n",
       "    <tr>\n",
       "      <th>1980-05-01</th>\n",
       "      <td>0.0526</td>\n",
       "      <td>0.0038</td>\n",
       "      <td>0.0034</td>\n",
       "      <td>-0.0112</td>\n",
       "    </tr>\n",
       "  </tbody>\n",
       "</table>\n",
       "</div>"
      ],
      "text/plain": [
       "               MKT     HML     RMW     UMD\n",
       "date                                      \n",
       "1980-01-01  0.0551  0.0175 -0.0170  0.0755\n",
       "1980-02-01 -0.0122  0.0061  0.0004  0.0788\n",
       "1980-03-01 -0.1290 -0.0101  0.0146 -0.0955\n",
       "1980-04-01  0.0397  0.0106 -0.0210 -0.0043\n",
       "1980-05-01  0.0526  0.0038  0.0034 -0.0112"
      ]
     },
     "metadata": {},
     "output_type": "display_data"
    },
    {
     "name": "stdout",
     "output_type": "stream",
     "text": [
      "(536, 4)\n"
     ]
    }
   ],
   "source": [
    "FILEIN = \"../data/midterm_2_data.xlsx\"\n",
    "SHEET = \"sector excess returns\"\n",
    "\n",
    "sector_er = pd.read_excel(FILEIN, sheet_name=SHEET).set_index('date')\n",
    "factor_er = pd.read_excel(FILEIN, sheet_name='factors excess returns').set_index('date')\n",
    "sector_er.columns = sector_er.columns.str.rstrip()\n",
    "factor_er.columns = factor_er.columns.str.rstrip()\n",
    "\n",
    "\n",
    "display(sector_er.head(5))\n",
    "print(sector_er.shape)\n",
    "\n",
    "display(factor_er.head(5))\n",
    "print(factor_er.shape)"
   ]
  },
  {
   "cell_type": "code",
   "execution_count": 45,
   "id": "76c73c1c",
   "metadata": {},
   "outputs": [
    {
     "data": {
      "text/html": [
       "<div>\n",
       "<style scoped>\n",
       "    .dataframe tbody tr th:only-of-type {\n",
       "        vertical-align: middle;\n",
       "    }\n",
       "\n",
       "    .dataframe tbody tr th {\n",
       "        vertical-align: top;\n",
       "    }\n",
       "\n",
       "    .dataframe thead th {\n",
       "        text-align: right;\n",
       "    }\n",
       "</style>\n",
       "<table border=\"1\" class=\"dataframe\">\n",
       "  <thead>\n",
       "    <tr style=\"text-align: right;\">\n",
       "      <th></th>\n",
       "      <th>Agric</th>\n",
       "      <th>Food</th>\n",
       "      <th>Soda</th>\n",
       "      <th>Beer</th>\n",
       "      <th>Smoke</th>\n",
       "      <th>Toys</th>\n",
       "      <th>Fun</th>\n",
       "      <th>Books</th>\n",
       "      <th>Hshld</th>\n",
       "      <th>Clths</th>\n",
       "      <th>...</th>\n",
       "      <th>Boxes</th>\n",
       "      <th>Trans</th>\n",
       "      <th>Whlsl</th>\n",
       "      <th>Rtail</th>\n",
       "      <th>Meals</th>\n",
       "      <th>Banks</th>\n",
       "      <th>Insur</th>\n",
       "      <th>RlEst</th>\n",
       "      <th>Fin</th>\n",
       "      <th>Other</th>\n",
       "    </tr>\n",
       "  </thead>\n",
       "  <tbody>\n",
       "    <tr>\n",
       "      <th>count</th>\n",
       "      <td>536.0000</td>\n",
       "      <td>536.0000</td>\n",
       "      <td>536.0000</td>\n",
       "      <td>536.0000</td>\n",
       "      <td>536.0000</td>\n",
       "      <td>536.0000</td>\n",
       "      <td>536.0000</td>\n",
       "      <td>536.0000</td>\n",
       "      <td>536.0000</td>\n",
       "      <td>536.0000</td>\n",
       "      <td>...</td>\n",
       "      <td>536.0000</td>\n",
       "      <td>536.0000</td>\n",
       "      <td>536.0000</td>\n",
       "      <td>536.0000</td>\n",
       "      <td>536.0000</td>\n",
       "      <td>536.0000</td>\n",
       "      <td>536.0000</td>\n",
       "      <td>536.0000</td>\n",
       "      <td>536.0000</td>\n",
       "      <td>536.0000</td>\n",
       "    </tr>\n",
       "    <tr>\n",
       "      <th>mean</th>\n",
       "      <td>0.0074</td>\n",
       "      <td>0.0080</td>\n",
       "      <td>0.0090</td>\n",
       "      <td>0.0094</td>\n",
       "      <td>0.0112</td>\n",
       "      <td>0.0049</td>\n",
       "      <td>0.0100</td>\n",
       "      <td>0.0064</td>\n",
       "      <td>0.0067</td>\n",
       "      <td>0.0077</td>\n",
       "      <td>...</td>\n",
       "      <td>0.0078</td>\n",
       "      <td>0.0075</td>\n",
       "      <td>0.0072</td>\n",
       "      <td>0.0095</td>\n",
       "      <td>0.0084</td>\n",
       "      <td>0.0077</td>\n",
       "      <td>0.0082</td>\n",
       "      <td>0.0041</td>\n",
       "      <td>0.0094</td>\n",
       "      <td>0.0047</td>\n",
       "    </tr>\n",
       "    <tr>\n",
       "      <th>std</th>\n",
       "      <td>0.0629</td>\n",
       "      <td>0.0435</td>\n",
       "      <td>0.0634</td>\n",
       "      <td>0.0489</td>\n",
       "      <td>0.0644</td>\n",
       "      <td>0.0719</td>\n",
       "      <td>0.0763</td>\n",
       "      <td>0.0597</td>\n",
       "      <td>0.0442</td>\n",
       "      <td>0.0648</td>\n",
       "      <td>...</td>\n",
       "      <td>0.0576</td>\n",
       "      <td>0.0579</td>\n",
       "      <td>0.0519</td>\n",
       "      <td>0.0539</td>\n",
       "      <td>0.0524</td>\n",
       "      <td>0.0619</td>\n",
       "      <td>0.0522</td>\n",
       "      <td>0.0727</td>\n",
       "      <td>0.0643</td>\n",
       "      <td>0.0608</td>\n",
       "    </tr>\n",
       "    <tr>\n",
       "      <th>min</th>\n",
       "      <td>-0.2966</td>\n",
       "      <td>-0.1836</td>\n",
       "      <td>-0.2646</td>\n",
       "      <td>-0.2017</td>\n",
       "      <td>-0.2535</td>\n",
       "      <td>-0.3511</td>\n",
       "      <td>-0.3252</td>\n",
       "      <td>-0.2478</td>\n",
       "      <td>-0.2228</td>\n",
       "      <td>-0.3141</td>\n",
       "      <td>...</td>\n",
       "      <td>-0.2889</td>\n",
       "      <td>-0.2869</td>\n",
       "      <td>-0.2936</td>\n",
       "      <td>-0.2973</td>\n",
       "      <td>-0.2420</td>\n",
       "      <td>-0.2784</td>\n",
       "      <td>-0.2706</td>\n",
       "      <td>-0.3683</td>\n",
       "      <td>-0.2663</td>\n",
       "      <td>-0.2693</td>\n",
       "    </tr>\n",
       "    <tr>\n",
       "      <th>25%</th>\n",
       "      <td>-0.0301</td>\n",
       "      <td>-0.0164</td>\n",
       "      <td>-0.0237</td>\n",
       "      <td>-0.0184</td>\n",
       "      <td>-0.0279</td>\n",
       "      <td>-0.0393</td>\n",
       "      <td>-0.0295</td>\n",
       "      <td>-0.0270</td>\n",
       "      <td>-0.0194</td>\n",
       "      <td>-0.0277</td>\n",
       "      <td>...</td>\n",
       "      <td>-0.0250</td>\n",
       "      <td>-0.0263</td>\n",
       "      <td>-0.0239</td>\n",
       "      <td>-0.0225</td>\n",
       "      <td>-0.0231</td>\n",
       "      <td>-0.0297</td>\n",
       "      <td>-0.0201</td>\n",
       "      <td>-0.0311</td>\n",
       "      <td>-0.0301</td>\n",
       "      <td>-0.0303</td>\n",
       "    </tr>\n",
       "    <tr>\n",
       "      <th>50%</th>\n",
       "      <td>0.0065</td>\n",
       "      <td>0.0094</td>\n",
       "      <td>0.0111</td>\n",
       "      <td>0.0097</td>\n",
       "      <td>0.0146</td>\n",
       "      <td>0.0080</td>\n",
       "      <td>0.0109</td>\n",
       "      <td>0.0042</td>\n",
       "      <td>0.0077</td>\n",
       "      <td>0.0078</td>\n",
       "      <td>...</td>\n",
       "      <td>0.0084</td>\n",
       "      <td>0.0105</td>\n",
       "      <td>0.0097</td>\n",
       "      <td>0.0090</td>\n",
       "      <td>0.0088</td>\n",
       "      <td>0.0129</td>\n",
       "      <td>0.0124</td>\n",
       "      <td>0.0061</td>\n",
       "      <td>0.0135</td>\n",
       "      <td>0.0057</td>\n",
       "    </tr>\n",
       "    <tr>\n",
       "      <th>75%</th>\n",
       "      <td>0.0435</td>\n",
       "      <td>0.0320</td>\n",
       "      <td>0.0454</td>\n",
       "      <td>0.0374</td>\n",
       "      <td>0.0491</td>\n",
       "      <td>0.0481</td>\n",
       "      <td>0.0549</td>\n",
       "      <td>0.0386</td>\n",
       "      <td>0.0336</td>\n",
       "      <td>0.0453</td>\n",
       "      <td>...</td>\n",
       "      <td>0.0447</td>\n",
       "      <td>0.0439</td>\n",
       "      <td>0.0399</td>\n",
       "      <td>0.0427</td>\n",
       "      <td>0.0410</td>\n",
       "      <td>0.0462</td>\n",
       "      <td>0.0391</td>\n",
       "      <td>0.0407</td>\n",
       "      <td>0.0480</td>\n",
       "      <td>0.0429</td>\n",
       "    </tr>\n",
       "    <tr>\n",
       "      <th>max</th>\n",
       "      <td>0.2813</td>\n",
       "      <td>0.1873</td>\n",
       "      <td>0.3858</td>\n",
       "      <td>0.2168</td>\n",
       "      <td>0.3237</td>\n",
       "      <td>0.2313</td>\n",
       "      <td>0.4126</td>\n",
       "      <td>0.3056</td>\n",
       "      <td>0.1839</td>\n",
       "      <td>0.2452</td>\n",
       "      <td>...</td>\n",
       "      <td>0.1866</td>\n",
       "      <td>0.1762</td>\n",
       "      <td>0.1729</td>\n",
       "      <td>0.1879</td>\n",
       "      <td>0.1867</td>\n",
       "      <td>0.1985</td>\n",
       "      <td>0.2287</td>\n",
       "      <td>0.6521</td>\n",
       "      <td>0.1940</td>\n",
       "      <td>0.1986</td>\n",
       "    </tr>\n",
       "  </tbody>\n",
       "</table>\n",
       "<p>8 rows × 49 columns</p>\n",
       "</div>"
      ],
      "text/plain": [
       "         Agric     Food     Soda     Beer    Smoke     Toys      Fun    Books  \\\n",
       "count 536.0000 536.0000 536.0000 536.0000 536.0000 536.0000 536.0000 536.0000   \n",
       "mean    0.0074   0.0080   0.0090   0.0094   0.0112   0.0049   0.0100   0.0064   \n",
       "std     0.0629   0.0435   0.0634   0.0489   0.0644   0.0719   0.0763   0.0597   \n",
       "min    -0.2966  -0.1836  -0.2646  -0.2017  -0.2535  -0.3511  -0.3252  -0.2478   \n",
       "25%    -0.0301  -0.0164  -0.0237  -0.0184  -0.0279  -0.0393  -0.0295  -0.0270   \n",
       "50%     0.0065   0.0094   0.0111   0.0097   0.0146   0.0080   0.0109   0.0042   \n",
       "75%     0.0435   0.0320   0.0454   0.0374   0.0491   0.0481   0.0549   0.0386   \n",
       "max     0.2813   0.1873   0.3858   0.2168   0.3237   0.2313   0.4126   0.3056   \n",
       "\n",
       "         Hshld    Clths  ...    Boxes    Trans    Whlsl    Rtail    Meals  \\\n",
       "count 536.0000 536.0000  ... 536.0000 536.0000 536.0000 536.0000 536.0000   \n",
       "mean    0.0067   0.0077  ...   0.0078   0.0075   0.0072   0.0095   0.0084   \n",
       "std     0.0442   0.0648  ...   0.0576   0.0579   0.0519   0.0539   0.0524   \n",
       "min    -0.2228  -0.3141  ...  -0.2889  -0.2869  -0.2936  -0.2973  -0.2420   \n",
       "25%    -0.0194  -0.0277  ...  -0.0250  -0.0263  -0.0239  -0.0225  -0.0231   \n",
       "50%     0.0077   0.0078  ...   0.0084   0.0105   0.0097   0.0090   0.0088   \n",
       "75%     0.0336   0.0453  ...   0.0447   0.0439   0.0399   0.0427   0.0410   \n",
       "max     0.1839   0.2452  ...   0.1866   0.1762   0.1729   0.1879   0.1867   \n",
       "\n",
       "         Banks    Insur    RlEst      Fin    Other  \n",
       "count 536.0000 536.0000 536.0000 536.0000 536.0000  \n",
       "mean    0.0077   0.0082   0.0041   0.0094   0.0047  \n",
       "std     0.0619   0.0522   0.0727   0.0643   0.0608  \n",
       "min    -0.2784  -0.2706  -0.3683  -0.2663  -0.2693  \n",
       "25%    -0.0297  -0.0201  -0.0311  -0.0301  -0.0303  \n",
       "50%     0.0129   0.0124   0.0061   0.0135   0.0057  \n",
       "75%     0.0462   0.0391   0.0407   0.0480   0.0429  \n",
       "max     0.1985   0.2287   0.6521   0.1940   0.1986  \n",
       "\n",
       "[8 rows x 49 columns]"
      ]
     },
     "execution_count": 45,
     "metadata": {},
     "output_type": "execute_result"
    }
   ],
   "source": [
    "sector_er.describe()"
   ]
  },
  {
   "cell_type": "markdown",
   "id": "db465bc9",
   "metadata": {
    "vscode": {
     "languageId": "plaintext"
    }
   },
   "source": [
    "### 2.1.\n",
    "(8pts)\n",
    "\n",
    "Calculate the model-implied expected excess returns of every asset.\n",
    "\n",
    "The time-series estimations should...\n",
    "* NOT include an intercept. (You assume the model holds perfectly.)\n",
    "* use data from the `training` timeframe.\n",
    "\n",
    "With the time-series estimates, use the `training` timeframe's sample average of the factors as the factor premia. Together, this will give you the model-implied risk premia, which we label as\n",
    "$$\n",
    "\\lambda_i := \\mathbb{E}[\\tilde{r}_i]\n",
    "$$\n",
    "\n",
    "* Store $\\lambda_i$ and $\\boldsymbol{\\beta}^i$ for each asset.\n",
    "* Print $\\lambda_i$ for `Agric`, `Food`, `Soda`"
   ]
  },
  {
   "cell_type": "code",
   "execution_count": 46,
   "id": "c9ec59e5",
   "metadata": {},
   "outputs": [],
   "source": [
    "sector_er_train = sector_er[pd.to_datetime('2018-01-01'): pd.to_datetime('2022-12-31')]\n",
    "sector_er_test = sector_er[pd.to_datetime('2023-01-01'):]\n",
    "\n",
    "factor_er_train = factor_er[pd.to_datetime('2018-01-01'): pd.to_datetime('2022-12-31')]\n",
    "factor_er_test = factor_er[pd.to_datetime('2023-01-01'):]"
   ]
  },
  {
   "cell_type": "code",
   "execution_count": 47,
   "id": "306d9219",
   "metadata": {},
   "outputs": [
    {
     "data": {
      "text/html": [
       "<div>\n",
       "<style scoped>\n",
       "    .dataframe tbody tr th:only-of-type {\n",
       "        vertical-align: middle;\n",
       "    }\n",
       "\n",
       "    .dataframe tbody tr th {\n",
       "        vertical-align: top;\n",
       "    }\n",
       "\n",
       "    .dataframe thead th {\n",
       "        text-align: right;\n",
       "    }\n",
       "</style>\n",
       "<table border=\"1\" class=\"dataframe\">\n",
       "  <thead>\n",
       "    <tr style=\"text-align: right;\">\n",
       "      <th></th>\n",
       "      <th>MKT</th>\n",
       "      <th>HML</th>\n",
       "      <th>RMW</th>\n",
       "      <th>UMD</th>\n",
       "    </tr>\n",
       "  </thead>\n",
       "  <tbody>\n",
       "    <tr>\n",
       "      <th>Agric</th>\n",
       "      <td>0.8324</td>\n",
       "      <td>0.5565</td>\n",
       "      <td>-0.5021</td>\n",
       "      <td>0.0390</td>\n",
       "    </tr>\n",
       "    <tr>\n",
       "      <th>Food</th>\n",
       "      <td>0.5245</td>\n",
       "      <td>0.2055</td>\n",
       "      <td>0.3097</td>\n",
       "      <td>-0.0036</td>\n",
       "    </tr>\n",
       "    <tr>\n",
       "      <th>Soda</th>\n",
       "      <td>0.5402</td>\n",
       "      <td>0.1791</td>\n",
       "      <td>0.6384</td>\n",
       "      <td>0.0137</td>\n",
       "    </tr>\n",
       "    <tr>\n",
       "      <th>Beer</th>\n",
       "      <td>0.5413</td>\n",
       "      <td>0.0230</td>\n",
       "      <td>0.6297</td>\n",
       "      <td>-0.0405</td>\n",
       "    </tr>\n",
       "    <tr>\n",
       "      <th>Smoke</th>\n",
       "      <td>0.4982</td>\n",
       "      <td>0.4431</td>\n",
       "      <td>0.4022</td>\n",
       "      <td>-0.1340</td>\n",
       "    </tr>\n",
       "  </tbody>\n",
       "</table>\n",
       "</div>"
      ],
      "text/plain": [
       "         MKT    HML     RMW     UMD\n",
       "Agric 0.8324 0.5565 -0.5021  0.0390\n",
       "Food  0.5245 0.2055  0.3097 -0.0036\n",
       "Soda  0.5402 0.1791  0.6384  0.0137\n",
       "Beer  0.5413 0.0230  0.6297 -0.0405\n",
       "Smoke 0.4982 0.4431  0.4022 -0.1340"
      ]
     },
     "metadata": {},
     "output_type": "display_data"
    }
   ],
   "source": [
    "sector_names = sector_er.columns\n",
    "betas = pd.DataFrame(index=sector_er_train.columns, columns=factor_er_train.columns)\n",
    "\n",
    "def ts_retression_train(name):\n",
    "    y = sector_er_train[name].values\n",
    "    X = factor_er_train.values\n",
    "\n",
    "    model = sm.OLS(y, X)\n",
    "    results = model.fit()\n",
    "    betas.loc[name] = results.params\n",
    "\n",
    "\n",
    "for name in sector_names:\n",
    "    ts_retression_train(name)\n",
    "\n",
    "display(betas.head(5))"
   ]
  },
  {
   "cell_type": "code",
   "execution_count": 48,
   "id": "1751cca5",
   "metadata": {},
   "outputs": [],
   "source": [
    "factor_premia = factor_er_train.mean()\n",
    "lambda_i = betas.astype(float).dot(factor_premia.astype(float))"
   ]
  },
  {
   "cell_type": "code",
   "execution_count": 49,
   "id": "68a7c4ea",
   "metadata": {},
   "outputs": [
    {
     "name": "stdout",
     "output_type": "stream",
     "text": [
      "Agric lambda: 0.003655102106916501\n",
      "Food lambda: 0.00545426786838044\n",
      "Soda lambda: 0.007336244651963081\n"
     ]
    }
   ],
   "source": [
    "print(f\"Agric lambda: {lambda_i['Agric']}\")\n",
    "print(f\"Food lambda: {lambda_i['Food']}\")\n",
    "print(f\"Soda lambda: {lambda_i['Soda']}\")"
   ]
  },
  {
   "cell_type": "markdown",
   "id": "6b80c6b5",
   "metadata": {
    "vscode": {
     "languageId": "plaintext"
    }
   },
   "source": [
    "### 2.2.\n",
    "\n",
    "Use the expected excess returns derived from (2.1) with the **regularized** covariance matrix to calculate the weights of the tangency portfolio.\n",
    "\n",
    "- Use the covariance matrix only for `training` timeframe.\n",
    "- Calculate and store the vector of weights for all the assets.\n",
    "- Return the weights of the tangency portfolio for `Agric`, `Food`, `Soda`.\n",
    "\n",
    "$$\n",
    "\\textbf{w}_{t} = \\dfrac{\\tilde{\\Sigma}^{-1} \\bm{\\lambda}}{\\bm{1}' \\tilde{\\Sigma}^{-1} \\bm{\\lambda}}\n",
    "$$\n",
    "\n",
    "Where $\\tilde{\\Sigma}^{-1}$ is the regularized covariance-matrix."
   ]
  },
  {
   "cell_type": "code",
   "execution_count": 50,
   "id": "090b5af9",
   "metadata": {},
   "outputs": [],
   "source": [
    "def tangency_portfolio_weights(lambda_i, returns):\n",
    "    returns = returns[lambda_i.index]\n",
    "\n",
    "    cov_matrix = returns.cov()\n",
    "\n",
    "    cov_matrix_reg = cov_matrix.copy()\n",
    "    for i in range(cov_matrix_reg.shape[0]):\n",
    "        for j in range(cov_matrix_reg.shape[1]):\n",
    "            if i != j:\n",
    "                # Regularized\n",
    "                cov_matrix_reg.iloc[i, j] /= 2\n",
    "    \n",
    "    inv_cov = np.linalg.inv(cov_matrix_reg.values)\n",
    "\n",
    "    ones = np.ones(len(lambda_i))\n",
    "    numerator = inv_cov @ lambda_i.values\n",
    "    denominator = ones.T @ numerator\n",
    "\n",
    "    weights = numerator / denominator\n",
    "    weights_df = pd.DataFrame(weights, index=lambda_i.index, columns=['Tangency Weights'])\n",
    "\n",
    "    return weights_df"
   ]
  },
  {
   "cell_type": "code",
   "execution_count": 51,
   "id": "f755fc3e",
   "metadata": {},
   "outputs": [
    {
     "name": "stdout",
     "output_type": "stream",
     "text": [
      "Agric weight: -0.03072271660169014\n",
      "Food weight: 0.015320224544835071\n",
      "Soda weight: 0.13294447809892723\n"
     ]
    }
   ],
   "source": [
    "weights_all = tangency_portfolio_weights(lambda_i, sector_er_train)\n",
    "\n",
    "print(f\"Agric weight: {weights_all.loc['Agric', 'Tangency Weights']}\")\n",
    "print(f\"Food weight: {weights_all.loc['Food', 'Tangency Weights']}\")\n",
    "print(f\"Soda weight: {weights_all.loc['Soda', 'Tangency Weights']}\")"
   ]
  },
  {
   "cell_type": "markdown",
   "id": "6a5c171c",
   "metadata": {
    "vscode": {
     "languageId": "plaintext"
    }
   },
   "source": [
    "### 2.3.\n",
    "\n",
    "Evaluate the performance of this allocation in the `testing` period. Report the **annualized**\n",
    "- mean\n",
    "- vol\n",
    "- Sharpe"
   ]
  },
  {
   "cell_type": "code",
   "execution_count": 54,
   "id": "d22020f2",
   "metadata": {},
   "outputs": [
    {
     "data": {
      "text/html": [
       "<div>\n",
       "<style scoped>\n",
       "    .dataframe tbody tr th:only-of-type {\n",
       "        vertical-align: middle;\n",
       "    }\n",
       "\n",
       "    .dataframe tbody tr th {\n",
       "        vertical-align: top;\n",
       "    }\n",
       "\n",
       "    .dataframe thead th {\n",
       "        text-align: right;\n",
       "    }\n",
       "</style>\n",
       "<table border=\"1\" class=\"dataframe\">\n",
       "  <thead>\n",
       "    <tr style=\"text-align: right;\">\n",
       "      <th></th>\n",
       "      <th>Mean</th>\n",
       "      <th>Volatility</th>\n",
       "      <th>Sharpe</th>\n",
       "    </tr>\n",
       "  </thead>\n",
       "  <tbody>\n",
       "    <tr>\n",
       "      <th>Tangency Portfolio Performance</th>\n",
       "      <td>0.1812</td>\n",
       "      <td>0.1195</td>\n",
       "      <td>1.5155</td>\n",
       "    </tr>\n",
       "  </tbody>\n",
       "</table>\n",
       "</div>"
      ],
      "text/plain": [
       "                                 Mean  Volatility  Sharpe\n",
       "Tangency Portfolio Performance 0.1812      0.1195  1.5155"
      ]
     },
     "metadata": {},
     "output_type": "display_data"
    }
   ],
   "source": [
    "def portfolio_statistics(df):\n",
    "    statistics = pd.DataFrame()\n",
    "    statistics['Mean'] = [np.mean(df) * 12]\n",
    "    statistics['Volatility'] = [np.std(df, ddof = 1) * np.sqrt(12)]\n",
    "    statistics['Sharpe'] = statistics['Mean'] / statistics['Volatility']\n",
    "\n",
    "    return statistics\n",
    "\n",
    "statistics_one = portfolio_statistics(sector_er_test @ weights_all['Tangency Weights'].T)\n",
    "statistics_one.index = ['Tangency Portfolio Performance']\n",
    "\n",
    "display(statistics_one)"
   ]
  },
  {
   "cell_type": "markdown",
   "id": "69a6f8bc",
   "metadata": {
    "vscode": {
     "languageId": "plaintext"
    }
   },
   "source": [
    "### 2.4.\n",
    "\n",
    "(7pts)\n",
    "\n",
    "Construct the same tangency portfolio as in `2.2` but with one change:\n",
    "* replace the risk premia of the assets, (denoted $\\lambda_i$) with the sample averages of the excess returns from the `training` set.\n",
    "\n",
    "So instead of using $\\lambda_i$ suggested by the factor model (as in `2.1-2.3`) you're using sample averages for $\\lambda_i$.\n",
    "\n",
    "- Return the weights of the tangency portfolio for `Agric`, `Food`, `Soda`.\n",
    "\n",
    "Evaluate the performance of this allocation in the `testing` period. Report the **annualized**\n",
    "- mean\n",
    "- vol\n",
    "- Sharpe"
   ]
  },
  {
   "cell_type": "code",
   "execution_count": 57,
   "id": "de95ee66",
   "metadata": {},
   "outputs": [
    {
     "data": {
      "text/plain": [
       "Agric   0.0102\n",
       "Food    0.0046\n",
       "Soda    0.0092\n",
       "Beer    0.0070\n",
       "Smoke   0.0031\n",
       "dtype: float64"
      ]
     },
     "metadata": {},
     "output_type": "display_data"
    },
    {
     "name": "stdout",
     "output_type": "stream",
     "text": [
      "Agric weight (sample): 0.1440898645204342\n",
      "Food weight (sample): -0.06980957545009599\n",
      "Soda weight (sample): 0.32267987966472084\n"
     ]
    }
   ],
   "source": [
    "lambda_i_sample = sector_er_train.mean()\n",
    "display(lambda_i_sample.head(5))\n",
    "weights_sample = tangency_portfolio_weights(lambda_i_sample, sector_er_train)\n",
    "\n",
    "print(f\"Agric weight (sample): {weights_sample.loc['Agric', 'Tangency Weights']}\")\n",
    "print(f\"Food weight (sample): {weights_sample.loc['Food', 'Tangency Weights']}\")\n",
    "print(f\"Soda weight (sample): {weights_sample.loc['Soda', 'Tangency Weights']}\")"
   ]
  },
  {
   "cell_type": "code",
   "execution_count": 58,
   "id": "633c4775",
   "metadata": {},
   "outputs": [
    {
     "data": {
      "text/html": [
       "<div>\n",
       "<style scoped>\n",
       "    .dataframe tbody tr th:only-of-type {\n",
       "        vertical-align: middle;\n",
       "    }\n",
       "\n",
       "    .dataframe tbody tr th {\n",
       "        vertical-align: top;\n",
       "    }\n",
       "\n",
       "    .dataframe thead th {\n",
       "        text-align: right;\n",
       "    }\n",
       "</style>\n",
       "<table border=\"1\" class=\"dataframe\">\n",
       "  <thead>\n",
       "    <tr style=\"text-align: right;\">\n",
       "      <th></th>\n",
       "      <th>Mean</th>\n",
       "      <th>Volatility</th>\n",
       "      <th>Sharpe</th>\n",
       "    </tr>\n",
       "  </thead>\n",
       "  <tbody>\n",
       "    <tr>\n",
       "      <th>Tangency Portfolio Performance (Sample)</th>\n",
       "      <td>0.1768</td>\n",
       "      <td>0.1530</td>\n",
       "      <td>1.1555</td>\n",
       "    </tr>\n",
       "  </tbody>\n",
       "</table>\n",
       "</div>"
      ],
      "text/plain": [
       "                                          Mean  Volatility  Sharpe\n",
       "Tangency Portfolio Performance (Sample) 0.1768      0.1530  1.1555"
      ]
     },
     "metadata": {},
     "output_type": "display_data"
    }
   ],
   "source": [
    "statistics_two = portfolio_statistics(sector_er_test @ weights_sample['Tangency Weights'].T)\n",
    "statistics_two.index = ['Tangency Portfolio Performance (Sample)']\n",
    "\n",
    "display(statistics_two)"
   ]
  },
  {
   "cell_type": "markdown",
   "id": "8c172cbe",
   "metadata": {
    "vscode": {
     "languageId": "plaintext"
    }
   },
   "source": [
    "### 2.5.\n",
    "\n",
    "Which allocation performed better in the `testing` period: the allocation based on premia from the factor model or from the sample averages?\n",
    "\n",
    "Why might this be?"
   ]
  },
  {
   "cell_type": "code",
   "execution_count": 59,
   "id": "14077257",
   "metadata": {},
   "outputs": [
    {
     "data": {
      "text/html": [
       "<div>\n",
       "<style scoped>\n",
       "    .dataframe tbody tr th:only-of-type {\n",
       "        vertical-align: middle;\n",
       "    }\n",
       "\n",
       "    .dataframe tbody tr th {\n",
       "        vertical-align: top;\n",
       "    }\n",
       "\n",
       "    .dataframe thead th {\n",
       "        text-align: right;\n",
       "    }\n",
       "</style>\n",
       "<table border=\"1\" class=\"dataframe\">\n",
       "  <thead>\n",
       "    <tr style=\"text-align: right;\">\n",
       "      <th></th>\n",
       "      <th>Mean</th>\n",
       "      <th>Volatility</th>\n",
       "      <th>Sharpe</th>\n",
       "    </tr>\n",
       "  </thead>\n",
       "  <tbody>\n",
       "    <tr>\n",
       "      <th>Tangency Portfolio Performance</th>\n",
       "      <td>0.1812</td>\n",
       "      <td>0.1195</td>\n",
       "      <td>1.5155</td>\n",
       "    </tr>\n",
       "    <tr>\n",
       "      <th>Tangency Portfolio Performance (Sample)</th>\n",
       "      <td>0.1768</td>\n",
       "      <td>0.1530</td>\n",
       "      <td>1.1555</td>\n",
       "    </tr>\n",
       "  </tbody>\n",
       "</table>\n",
       "</div>"
      ],
      "text/plain": [
       "                                          Mean  Volatility  Sharpe\n",
       "Tangency Portfolio Performance          0.1812      0.1195  1.5155\n",
       "Tangency Portfolio Performance (Sample) 0.1768      0.1530  1.1555"
      ]
     },
     "metadata": {},
     "output_type": "display_data"
    }
   ],
   "source": [
    "statistics = pd.concat([statistics_one, statistics_two])\n",
    "display(statistics)"
   ]
  },
  {
   "cell_type": "markdown",
   "id": "1798dff6",
   "metadata": {},
   "source": [
    "Answer:\n",
    "\n",
    "The tangency portfolio based on the AQR 4-Factor model to estimate the lambda_i does better than the just using the sample mean, as we can observe higher mean and lower volatility from it, leading to higher Sharpe Ratio.\n",
    "\n",
    "Firstly, The factor model estimates expected returns based on the assets' sensitivities to AQR's risk factors, which somehow denoise the data series and take the influential factors out.\n",
    "\n",
    "Secondly, it can also avoid overfitting as using the sample mean can incorporate white noise inside\n",
    "\n",
    "Thirdly, it is risk Alignment that AQR's factor model aligns expected returns with the underlying risk exposures of assets. This helps in constructing a portfolio that efficiently balances risk and return based on systematic risk factors, but not idiosyncratic risk."
   ]
  },
  {
   "cell_type": "markdown",
   "id": "82a442fc",
   "metadata": {
    "vscode": {
     "languageId": "plaintext"
    }
   },
   "source": [
    "### 2.6.\n",
    "Suppose you now want to build a tangency portfolio solely from the factors, without using the sector ETFs.\n",
    "\n",
    "- Calculate the weights of the tangency portfolio using `training` data for the factors.\n",
    "- Again, regularize the covariance matrix of factor returns by dividing off-diagonal elements by 2.\n",
    "\n",
    "Report, in the `testing` period, the factor-based tangency stats **annualized**...\n",
    "- mean\n",
    "- vol\n",
    "- Sharpe\n"
   ]
  },
  {
   "cell_type": "code",
   "execution_count": 61,
   "id": "b656403f",
   "metadata": {},
   "outputs": [
    {
     "data": {
      "text/html": [
       "<div>\n",
       "<style scoped>\n",
       "    .dataframe tbody tr th:only-of-type {\n",
       "        vertical-align: middle;\n",
       "    }\n",
       "\n",
       "    .dataframe tbody tr th {\n",
       "        vertical-align: top;\n",
       "    }\n",
       "\n",
       "    .dataframe thead th {\n",
       "        text-align: right;\n",
       "    }\n",
       "</style>\n",
       "<table border=\"1\" class=\"dataframe\">\n",
       "  <thead>\n",
       "    <tr style=\"text-align: right;\">\n",
       "      <th></th>\n",
       "      <th>Mean</th>\n",
       "      <th>Volatility</th>\n",
       "      <th>Sharpe</th>\n",
       "    </tr>\n",
       "  </thead>\n",
       "  <tbody>\n",
       "    <tr>\n",
       "      <th>Tangency Portfolio Performance (Factor)</th>\n",
       "      <td>0.0624</td>\n",
       "      <td>0.0582</td>\n",
       "      <td>1.0719</td>\n",
       "    </tr>\n",
       "  </tbody>\n",
       "</table>\n",
       "</div>"
      ],
      "text/plain": [
       "                                          Mean  Volatility  Sharpe\n",
       "Tangency Portfolio Performance (Factor) 0.0624      0.0582  1.0719"
      ]
     },
     "metadata": {},
     "output_type": "display_data"
    }
   ],
   "source": [
    "lambda_i_factors = factor_er_train.mean()\n",
    "weights_factor = tangency_portfolio_weights(lambda_i_factors, factor_er_train)\n",
    "\n",
    "statistics_three = portfolio_statistics(factor_er_test @ weights_factor['Tangency Weights'].T)\n",
    "statistics_three.index = ['Tangency Portfolio Performance (Factor)']\n",
    "\n",
    "display(statistics_three)"
   ]
  },
  {
   "cell_type": "markdown",
   "id": "32d6cc36",
   "metadata": {},
   "source": [
    "### 2.7.\n",
    "\n",
    "Based on the hedge fund's beliefs, would you prefer to use the ETF-based tangency or the factor-based tangency portfolio? Explain your reasoning. Note that you should answer based on broad principles and not on the particular estimation results."
   ]
  },
  {
   "cell_type": "markdown",
   "id": "c23f777e",
   "metadata": {},
   "source": [
    "Answer:\n",
    "\n",
    "In terms of the sharpe ratio, from the factor-based tangency portfolio, we will have around 1.07 Sharpe Ratio, which is much lower than the Sharpe Ratio from ETF-based tangency portfolio that has 1.52 value. Hence, we should definitly select the ETF-based one.\n",
    "\n",
    "Secondly, as ETF-based tangency portfolio is tradable by just trade the ETF with specified weights, however, factor-based portfolio is non-tradable otherwise we need to recalculate the weights of each underlying inside the factors.\n",
    "\n",
    "Thirdly, Factors can exhibit significant volatility due to their construction and exposure to specific risks, as most of the factors are highly correlated. It caused the portfolio to be not fully diversified. Hence, we should select the ETF-based one that considers the effect from different sectors.\n",
    "\n",
    "Also, the factor construction like HML and SML, already involves the long-short in one set of assets and a short position in another, which is meaningless to do another tangency portfolio that break the logic from each factor."
   ]
  },
  {
   "cell_type": "markdown",
   "id": "0a8eda25",
   "metadata": {},
   "source": [
    "***"
   ]
  },
  {
   "cell_type": "markdown",
   "id": "51ff849e",
   "metadata": {
    "vscode": {
     "languageId": "plaintext"
    }
   },
   "source": [
    "# 3. Long-Run Returns\n",
    "\n",
    "For this question, use only the sheet `factors excess returns`.\n",
    "\n",
    "Suppose we want to measure the long run returns of various pricing factors."
   ]
  },
  {
   "cell_type": "markdown",
   "id": "4be343b9",
   "metadata": {
    "vscode": {
     "languageId": "plaintext"
    }
   },
   "source": [
    "### 3.1.\n",
    "\n",
    "Turn the data into log returns.\n",
    "- Display the first 5 rows of the data.\n",
    "\n",
    "Using these log returns, report the **annualized**\n",
    "* mean\n",
    "* vol\n",
    "* Sharpe\n",
    "\n",
    "### 3.2.\n",
    "\n",
    "Consider 15-year cumulative log excess returns. Following the assumptions and modeling of Lecture 6, report the following 15-year stats:\n",
    "- mean\n",
    "- vol\n",
    "- Sharpe\n",
    "\n",
    "How do they compare to the estimated stats (1-year horizon) in `3.1`? "
   ]
  },
  {
   "cell_type": "code",
   "execution_count": 62,
   "id": "991ab0f2",
   "metadata": {},
   "outputs": [
    {
     "data": {
      "text/html": [
       "<div>\n",
       "<style scoped>\n",
       "    .dataframe tbody tr th:only-of-type {\n",
       "        vertical-align: middle;\n",
       "    }\n",
       "\n",
       "    .dataframe tbody tr th {\n",
       "        vertical-align: top;\n",
       "    }\n",
       "\n",
       "    .dataframe thead th {\n",
       "        text-align: right;\n",
       "    }\n",
       "</style>\n",
       "<table border=\"1\" class=\"dataframe\">\n",
       "  <thead>\n",
       "    <tr style=\"text-align: right;\">\n",
       "      <th></th>\n",
       "      <th>MKT</th>\n",
       "      <th>HML</th>\n",
       "      <th>RMW</th>\n",
       "      <th>UMD</th>\n",
       "    </tr>\n",
       "    <tr>\n",
       "      <th>date</th>\n",
       "      <th></th>\n",
       "      <th></th>\n",
       "      <th></th>\n",
       "      <th></th>\n",
       "    </tr>\n",
       "  </thead>\n",
       "  <tbody>\n",
       "    <tr>\n",
       "      <th>1980-01-01</th>\n",
       "      <td>0.0536</td>\n",
       "      <td>0.0173</td>\n",
       "      <td>-0.0171</td>\n",
       "      <td>0.0728</td>\n",
       "    </tr>\n",
       "    <tr>\n",
       "      <th>1980-02-01</th>\n",
       "      <td>-0.0123</td>\n",
       "      <td>0.0061</td>\n",
       "      <td>0.0004</td>\n",
       "      <td>0.0758</td>\n",
       "    </tr>\n",
       "    <tr>\n",
       "      <th>1980-03-01</th>\n",
       "      <td>-0.1381</td>\n",
       "      <td>-0.0102</td>\n",
       "      <td>0.0145</td>\n",
       "      <td>-0.1004</td>\n",
       "    </tr>\n",
       "    <tr>\n",
       "      <th>1980-04-01</th>\n",
       "      <td>0.0389</td>\n",
       "      <td>0.0105</td>\n",
       "      <td>-0.0212</td>\n",
       "      <td>-0.0043</td>\n",
       "    </tr>\n",
       "    <tr>\n",
       "      <th>1980-05-01</th>\n",
       "      <td>0.0513</td>\n",
       "      <td>0.0038</td>\n",
       "      <td>0.0034</td>\n",
       "      <td>-0.0113</td>\n",
       "    </tr>\n",
       "  </tbody>\n",
       "</table>\n",
       "</div>"
      ],
      "text/plain": [
       "               MKT     HML     RMW     UMD\n",
       "date                                      \n",
       "1980-01-01  0.0536  0.0173 -0.0171  0.0728\n",
       "1980-02-01 -0.0123  0.0061  0.0004  0.0758\n",
       "1980-03-01 -0.1381 -0.0102  0.0145 -0.1004\n",
       "1980-04-01  0.0389  0.0105 -0.0212 -0.0043\n",
       "1980-05-01  0.0513  0.0038  0.0034 -0.0113"
      ]
     },
     "metadata": {},
     "output_type": "display_data"
    }
   ],
   "source": [
    "log_returns = factor_er.apply(lambda x: np.log(x + 1))\n",
    "display(log_returns.head(5))"
   ]
  },
  {
   "cell_type": "code",
   "execution_count": 63,
   "id": "047c5d3e",
   "metadata": {},
   "outputs": [
    {
     "data": {
      "text/html": [
       "<div>\n",
       "<style scoped>\n",
       "    .dataframe tbody tr th:only-of-type {\n",
       "        vertical-align: middle;\n",
       "    }\n",
       "\n",
       "    .dataframe tbody tr th {\n",
       "        vertical-align: top;\n",
       "    }\n",
       "\n",
       "    .dataframe thead th {\n",
       "        text-align: right;\n",
       "    }\n",
       "</style>\n",
       "<table border=\"1\" class=\"dataframe\">\n",
       "  <thead>\n",
       "    <tr style=\"text-align: right;\">\n",
       "      <th></th>\n",
       "      <th>15-Year Mean</th>\n",
       "      <th>15-Year Volatility</th>\n",
       "      <th>15-Year Sharpe Ratio</th>\n",
       "    </tr>\n",
       "  </thead>\n",
       "  <tbody>\n",
       "    <tr>\n",
       "      <th>MKT</th>\n",
       "      <td>0.9976</td>\n",
       "      <td>0.3966</td>\n",
       "      <td>2.5155</td>\n",
       "    </tr>\n",
       "    <tr>\n",
       "      <th>HML</th>\n",
       "      <td>0.3159</td>\n",
       "      <td>0.4376</td>\n",
       "      <td>0.7220</td>\n",
       "    </tr>\n",
       "    <tr>\n",
       "      <th>RMW</th>\n",
       "      <td>0.6183</td>\n",
       "      <td>0.1510</td>\n",
       "      <td>4.0933</td>\n",
       "    </tr>\n",
       "    <tr>\n",
       "      <th>UMD</th>\n",
       "      <td>0.7415</td>\n",
       "      <td>0.7299</td>\n",
       "      <td>1.0158</td>\n",
       "    </tr>\n",
       "  </tbody>\n",
       "</table>\n",
       "</div>"
      ],
      "text/plain": [
       "     15-Year Mean  15-Year Volatility  15-Year Sharpe Ratio\n",
       "MKT        0.9976              0.3966                2.5155\n",
       "HML        0.3159              0.4376                0.7220\n",
       "RMW        0.6183              0.1510                4.0933\n",
       "UMD        0.7415              0.7299                1.0158"
      ]
     },
     "metadata": {},
     "output_type": "display_data"
    }
   ],
   "source": [
    "def rolling_cumulative_stats(log_returns, window_years = 15):\n",
    "    periods_per_year = 12\n",
    "    \n",
    "    window_size = window_years * periods_per_year\n",
    "    \n",
    "    rolling_cumulative_log_returns = log_returns.rolling(window=window_size).sum().dropna()\n",
    "    \n",
    "    mean_cumulative = rolling_cumulative_log_returns.mean()\n",
    "    std_cumulative = rolling_cumulative_log_returns.std()\n",
    "    sharpe_ratio_cumulative = mean_cumulative / std_cumulative\n",
    "    \n",
    "    stats_df = pd.DataFrame({\n",
    "        f'{window_years}-Year Mean': mean_cumulative,\n",
    "        f'{window_years}-Year Volatility': std_cumulative,\n",
    "        f'{window_years}-Year Sharpe Ratio': sharpe_ratio_cumulative\n",
    "    })\n",
    "    \n",
    "    return stats_df\n",
    "\n",
    "stats_15_year = rolling_cumulative_stats(log_returns, window_years=15)\n",
    "\n",
    "display(stats_15_year)"
   ]
  },
  {
   "cell_type": "markdown",
   "id": "3181ba0c",
   "metadata": {
    "vscode": {
     "languageId": "plaintext"
    }
   },
   "source": [
    "### 3.3.\n",
    "\n",
    "What is the probability that momentum factor has a negative mean excess return over the next \n",
    "* single period?\n",
    "* 15 years?"
   ]
  },
  {
   "cell_type": "code",
   "execution_count": 70,
   "id": "24cc2100",
   "metadata": {},
   "outputs": [
    {
     "name": "stdout",
     "output_type": "stream",
     "text": [
      "The stats of single period is 15.49%\n",
      "The stats of 15-years period period is 0.00%\n"
     ]
    }
   ],
   "source": [
    "def prob(mu, sigma, h):\n",
    "    return norm.cdf(np.sqrt(h)*mu/sigma)\n",
    "\n",
    "mu, sigma = stats_15_year.loc['UMD', '15-Year Mean'], stats_15_year.loc['UMD', '15-Year Volatility']\n",
    "print(f\"The stats of single period is {prob(mu = -mu, sigma = sigma, h = 1):,.2%}\")\n",
    "print(f\"The stats of 15-years period period is {prob(mu = -mu, sigma = sigma, h = 15):,.2%}\")"
   ]
  },
  {
   "cell_type": "markdown",
   "id": "a137b86c",
   "metadata": {
    "vscode": {
     "languageId": "plaintext"
    }
   },
   "source": [
    "### 3.4.\n",
    "\n",
    "Recall from the case that momentum has been underperforming since 2009. \n",
    "\n",
    "Using data from 2009 to present, what is the probability that momentum *outperforms* the market factor over the next\n",
    "* period?\n",
    "* 15 years?"
   ]
  },
  {
   "cell_type": "code",
   "execution_count": 71,
   "id": "15ad6790",
   "metadata": {},
   "outputs": [
    {
     "data": {
      "text/html": [
       "<div>\n",
       "<style scoped>\n",
       "    .dataframe tbody tr th:only-of-type {\n",
       "        vertical-align: middle;\n",
       "    }\n",
       "\n",
       "    .dataframe tbody tr th {\n",
       "        vertical-align: top;\n",
       "    }\n",
       "\n",
       "    .dataframe thead th {\n",
       "        text-align: right;\n",
       "    }\n",
       "</style>\n",
       "<table border=\"1\" class=\"dataframe\">\n",
       "  <thead>\n",
       "    <tr style=\"text-align: right;\">\n",
       "      <th></th>\n",
       "      <th>15-Year Mean</th>\n",
       "      <th>15-Year Volatility</th>\n",
       "      <th>15-Year Sharpe Ratio</th>\n",
       "    </tr>\n",
       "  </thead>\n",
       "  <tbody>\n",
       "    <tr>\n",
       "      <th>MKT</th>\n",
       "      <td>1.9124</td>\n",
       "      <td>0.0910</td>\n",
       "      <td>21.0201</td>\n",
       "    </tr>\n",
       "    <tr>\n",
       "      <th>HML</th>\n",
       "      <td>-0.2440</td>\n",
       "      <td>0.0531</td>\n",
       "      <td>-4.5973</td>\n",
       "    </tr>\n",
       "    <tr>\n",
       "      <th>RMW</th>\n",
       "      <td>0.4939</td>\n",
       "      <td>0.0462</td>\n",
       "      <td>10.6901</td>\n",
       "    </tr>\n",
       "    <tr>\n",
       "      <th>UMD</th>\n",
       "      <td>-0.1234</td>\n",
       "      <td>0.3525</td>\n",
       "      <td>-0.3499</td>\n",
       "    </tr>\n",
       "  </tbody>\n",
       "</table>\n",
       "</div>"
      ],
      "text/plain": [
       "     15-Year Mean  15-Year Volatility  15-Year Sharpe Ratio\n",
       "MKT        1.9124              0.0910               21.0201\n",
       "HML       -0.2440              0.0531               -4.5973\n",
       "RMW        0.4939              0.0462               10.6901\n",
       "UMD       -0.1234              0.3525               -0.3499"
      ]
     },
     "metadata": {},
     "output_type": "display_data"
    }
   ],
   "source": [
    "stats_15_year_new = rolling_cumulative_stats(log_returns[pd.to_datetime('2009-01-01'): ], window_years=15)\n",
    "\n",
    "display(stats_15_year_new)"
   ]
  },
  {
   "cell_type": "code",
   "execution_count": 72,
   "id": "75f7f54e",
   "metadata": {},
   "outputs": [
    {
     "name": "stdout",
     "output_type": "stream",
     "text": [
      "The stats of single period is 56.71%\n",
      "The stats of 15-years period period is 74.36%\n"
     ]
    }
   ],
   "source": [
    "mu, sigma = stats_15_year_new.loc['UMD', '15-Year Mean'], stats_15_year.loc['UMD', '15-Year Volatility']\n",
    "print(f\"The stats of single period is {prob(mu = -mu, sigma = sigma, h = 1):,.2%}\")\n",
    "print(f\"The stats of 15-years period period is {prob(mu = -mu, sigma = sigma, h = 15):,.2%}\")"
   ]
  },
  {
   "cell_type": "markdown",
   "id": "5678bc07",
   "metadata": {
    "vscode": {
     "languageId": "plaintext"
    }
   },
   "source": [
    "### 3.5.\n",
    "Conceptually, why is there such a discrepancy between this probability for 1 period vs. 15 years?\n",
    "\n",
    "What assumption about the log-returns are we making when we use this technique to estimate underperformance?"
   ]
  },
  {
   "cell_type": "markdown",
   "id": "d3bc1cc5",
   "metadata": {},
   "source": [
    "Answer:\n",
    "\n",
    "By taking longer horizon to measure the probability, we strengthen the effect of np.sqrt(h) to the probability calculation, hence if the probability from single period < 50%, then the probability from 15-years will be lesser, vice versa.\n",
    "\n",
    "The assumption is that we assume the log return is i.i.d normally distributed, as we remove the drift effect from the original return series by taking log."
   ]
  },
  {
   "cell_type": "markdown",
   "id": "868f33b7",
   "metadata": {},
   "source": [
    "### 3.6.\n",
    "\n",
    "Using your previous answers, explain what is meant by time diversification."
   ]
  },
  {
   "cell_type": "markdown",
   "id": "3f5063c9",
   "metadata": {},
   "source": [
    "Answer:\n",
    "\n",
    "Time-diversification refers to this idea that mean annualized return becomes riskless for large investment horizons. Hence that's why from the previous answer, we will have magnified probability result."
   ]
  },
  {
   "cell_type": "markdown",
   "id": "b5080207",
   "metadata": {
    "vscode": {
     "languageId": "plaintext"
    }
   },
   "source": [
    "### 3.7.\n",
    "\n",
    "Is the probability that `HML` and `UMD` both have negative cumulative returns over the next year higher or lower than the probability that `HML` and `MKT` both have negative cumulative returns over the next year?\n",
    "\n",
    "Answer conceptually, but specifically. (No need to calculate the specific probabilities.)"
   ]
  },
  {
   "cell_type": "markdown",
   "id": "b675b8e6",
   "metadata": {},
   "source": [
    "The probability should be larger. Taking HML as unchanged, the probability that UMD is negative is higher than the probability that MKT is negative, by the 15-Year Sharpe Ratio we witnessed that after 2009, MKT has higher Sharpe Ratio."
   ]
  },
  {
   "cell_type": "markdown",
   "id": "b2e56fb4",
   "metadata": {},
   "source": [
    "Cite: ChatGPT o1-preview"
   ]
  },
  {
   "cell_type": "markdown",
   "id": "d6cf51ec",
   "metadata": {
    "vscode": {
     "languageId": "plaintext"
    }
   },
   "source": [
    "***"
   ]
  }
 ],
 "metadata": {
  "hide_input": false,
  "kernelspec": {
   "display_name": "finm",
   "language": "python",
   "name": "python3"
  },
  "language_info": {
   "codemirror_mode": {
    "name": "ipython",
    "version": 3
   },
   "file_extension": ".py",
   "mimetype": "text/x-python",
   "name": "python",
   "nbconvert_exporter": "python",
   "pygments_lexer": "ipython3",
   "version": "3.12.4"
  }
 },
 "nbformat": 4,
 "nbformat_minor": 5
}
